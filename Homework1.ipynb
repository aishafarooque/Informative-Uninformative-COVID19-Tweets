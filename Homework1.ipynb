{
  "cells": [
    {
      "cell_type": "markdown",
      "metadata": {
        "id": "58P7eNIbPmYR"
      },
      "source": [
        "# COSC6336 Homework 1"
      ]
    },
    {
      "cell_type": "markdown",
      "metadata": {
        "id": "neBc6KhlPfw1"
      },
      "source": [
        "## Introduction\n",
        "In this project, you will work on the text classification task of automatically identifying informative/uninformative tweets about COVID-19."
      ]
    },
    {
      "cell_type": "markdown",
      "metadata": {
        "id": "PR9pP0LXP-vU"
      },
      "source": [
        "First, download the data by run the command in the cell below. The dataset is downloaded to the Colab file storage. If you prefer to work on your machines, you can download the code and dataset to your machine."
      ]
    },
    {
      "cell_type": "code",
      "execution_count": null,
      "metadata": {
        "colab": {
          "base_uri": "https://localhost:8080/"
        },
        "id": "gIf6hcrrMQsC",
        "outputId": "8c0fc85a-67d2-44fd-9559-2b59f1e0e93a"
      },
      "outputs": [
        {
          "output_type": "stream",
          "name": "stdout",
          "text": [
            "Downloading...\n",
            "From: https://drive.google.com/uc?id=1hCdscwOk5O9j7KqMCYk2yIYkeyKbXRDQ\n",
            "To: /content/infomative_tweet.tsv\n",
            "\r  0% 0.00/1.30M [00:00<?, ?B/s]\r100% 1.30M/1.30M [00:00<00:00, 173MB/s]\n"
          ]
        }
      ],
      "source": [
        "!gdown 1hCdscwOk5O9j7KqMCYk2yIYkeyKbXRDQ"
      ]
    },
    {
      "cell_type": "code",
      "execution_count": null,
      "metadata": {
        "id": "PmGzZExJoveO"
      },
      "outputs": [],
      "source": [
        "import pandas as pd\n",
        "import numpy as np"
      ]
    },
    {
      "cell_type": "markdown",
      "metadata": {
        "id": "OSAMhPprQHRw"
      },
      "source": [
        "Read the data using `Pandas`:"
      ]
    },
    {
      "cell_type": "code",
      "execution_count": null,
      "metadata": {
        "id": "NVXnvTRrMg_S"
      },
      "outputs": [],
      "source": [
        "df = pd.read_csv(\"infomative_tweet.tsv\", sep='\\t')"
      ]
    },
    {
      "cell_type": "markdown",
      "metadata": {
        "id": "eamhNIXyQLkt"
      },
      "source": [
        "Preview the dataframe:"
      ]
    },
    {
      "cell_type": "code",
      "execution_count": null,
      "metadata": {
        "colab": {
          "base_uri": "https://localhost:8080/",
          "height": 424
        },
        "id": "XVjkz5mkR8Vf",
        "outputId": "a93c16d7-ecde-4f61-f83b-6948da01e4e3"
      },
      "outputs": [
        {
          "output_type": "execute_result",
          "data": {
            "text/plain": [
              "                       Id                                               Text  \\\n",
              "0     1244051803903328258  This ignores: 1. 5000 Italian Rugby Fans allow...   \n",
              "1     1242016817863892992  1/2 Some good news and some bad news , new rec...   \n",
              "2     1242155318475468801  Ace reporting by @USER Title IX sexual-assault...   \n",
              "3     1245746251582377984  Canada's Chief Public Health Officer, Dr. Ther...   \n",
              "4     1239187176954478593  Very sad to hear a member of staff at Fortisme...   \n",
              "...                   ...                                                ...   \n",
              "4995  1244481231779233792  #BreakingNews: A 45 year old healthcare worker...   \n",
              "4996  1245688974506688518  ScHARRSheffield: RT ShefUniNews: \"The main rea...   \n",
              "4997  1241077936062705664  Researchers developed imaging technology calle...   \n",
              "4998  1242855817449267205  After spending 4 hours pouring over Britain's ...   \n",
              "4999  1251365485595123713  All primary contacts (though asymptomatic) wer...   \n",
              "\n",
              "              Label  Class  \n",
              "0     UNINFORMATIVE      0  \n",
              "1       INFORMATIVE      1  \n",
              "2     UNINFORMATIVE      0  \n",
              "3       INFORMATIVE      1  \n",
              "4       INFORMATIVE      1  \n",
              "...             ...    ...  \n",
              "4995    INFORMATIVE      1  \n",
              "4996  UNINFORMATIVE      0  \n",
              "4997  UNINFORMATIVE      0  \n",
              "4998  UNINFORMATIVE      0  \n",
              "4999    INFORMATIVE      1  \n",
              "\n",
              "[5000 rows x 4 columns]"
            ],
            "text/html": [
              "\n",
              "  <div id=\"df-504334dd-2da2-4abb-9bc2-f1b2ce82c098\">\n",
              "    <div class=\"colab-df-container\">\n",
              "      <div>\n",
              "<style scoped>\n",
              "    .dataframe tbody tr th:only-of-type {\n",
              "        vertical-align: middle;\n",
              "    }\n",
              "\n",
              "    .dataframe tbody tr th {\n",
              "        vertical-align: top;\n",
              "    }\n",
              "\n",
              "    .dataframe thead th {\n",
              "        text-align: right;\n",
              "    }\n",
              "</style>\n",
              "<table border=\"1\" class=\"dataframe\">\n",
              "  <thead>\n",
              "    <tr style=\"text-align: right;\">\n",
              "      <th></th>\n",
              "      <th>Id</th>\n",
              "      <th>Text</th>\n",
              "      <th>Label</th>\n",
              "      <th>Class</th>\n",
              "    </tr>\n",
              "  </thead>\n",
              "  <tbody>\n",
              "    <tr>\n",
              "      <th>0</th>\n",
              "      <td>1244051803903328258</td>\n",
              "      <td>This ignores: 1. 5000 Italian Rugby Fans allow...</td>\n",
              "      <td>UNINFORMATIVE</td>\n",
              "      <td>0</td>\n",
              "    </tr>\n",
              "    <tr>\n",
              "      <th>1</th>\n",
              "      <td>1242016817863892992</td>\n",
              "      <td>1/2 Some good news and some bad news , new rec...</td>\n",
              "      <td>INFORMATIVE</td>\n",
              "      <td>1</td>\n",
              "    </tr>\n",
              "    <tr>\n",
              "      <th>2</th>\n",
              "      <td>1242155318475468801</td>\n",
              "      <td>Ace reporting by @USER Title IX sexual-assault...</td>\n",
              "      <td>UNINFORMATIVE</td>\n",
              "      <td>0</td>\n",
              "    </tr>\n",
              "    <tr>\n",
              "      <th>3</th>\n",
              "      <td>1245746251582377984</td>\n",
              "      <td>Canada's Chief Public Health Officer, Dr. Ther...</td>\n",
              "      <td>INFORMATIVE</td>\n",
              "      <td>1</td>\n",
              "    </tr>\n",
              "    <tr>\n",
              "      <th>4</th>\n",
              "      <td>1239187176954478593</td>\n",
              "      <td>Very sad to hear a member of staff at Fortisme...</td>\n",
              "      <td>INFORMATIVE</td>\n",
              "      <td>1</td>\n",
              "    </tr>\n",
              "    <tr>\n",
              "      <th>...</th>\n",
              "      <td>...</td>\n",
              "      <td>...</td>\n",
              "      <td>...</td>\n",
              "      <td>...</td>\n",
              "    </tr>\n",
              "    <tr>\n",
              "      <th>4995</th>\n",
              "      <td>1244481231779233792</td>\n",
              "      <td>#BreakingNews: A 45 year old healthcare worker...</td>\n",
              "      <td>INFORMATIVE</td>\n",
              "      <td>1</td>\n",
              "    </tr>\n",
              "    <tr>\n",
              "      <th>4996</th>\n",
              "      <td>1245688974506688518</td>\n",
              "      <td>ScHARRSheffield: RT ShefUniNews: \"The main rea...</td>\n",
              "      <td>UNINFORMATIVE</td>\n",
              "      <td>0</td>\n",
              "    </tr>\n",
              "    <tr>\n",
              "      <th>4997</th>\n",
              "      <td>1241077936062705664</td>\n",
              "      <td>Researchers developed imaging technology calle...</td>\n",
              "      <td>UNINFORMATIVE</td>\n",
              "      <td>0</td>\n",
              "    </tr>\n",
              "    <tr>\n",
              "      <th>4998</th>\n",
              "      <td>1242855817449267205</td>\n",
              "      <td>After spending 4 hours pouring over Britain's ...</td>\n",
              "      <td>UNINFORMATIVE</td>\n",
              "      <td>0</td>\n",
              "    </tr>\n",
              "    <tr>\n",
              "      <th>4999</th>\n",
              "      <td>1251365485595123713</td>\n",
              "      <td>All primary contacts (though asymptomatic) wer...</td>\n",
              "      <td>INFORMATIVE</td>\n",
              "      <td>1</td>\n",
              "    </tr>\n",
              "  </tbody>\n",
              "</table>\n",
              "<p>5000 rows × 4 columns</p>\n",
              "</div>\n",
              "      <button class=\"colab-df-convert\" onclick=\"convertToInteractive('df-504334dd-2da2-4abb-9bc2-f1b2ce82c098')\"\n",
              "              title=\"Convert this dataframe to an interactive table.\"\n",
              "              style=\"display:none;\">\n",
              "        \n",
              "  <svg xmlns=\"http://www.w3.org/2000/svg\" height=\"24px\"viewBox=\"0 0 24 24\"\n",
              "       width=\"24px\">\n",
              "    <path d=\"M0 0h24v24H0V0z\" fill=\"none\"/>\n",
              "    <path d=\"M18.56 5.44l.94 2.06.94-2.06 2.06-.94-2.06-.94-.94-2.06-.94 2.06-2.06.94zm-11 1L8.5 8.5l.94-2.06 2.06-.94-2.06-.94L8.5 2.5l-.94 2.06-2.06.94zm10 10l.94 2.06.94-2.06 2.06-.94-2.06-.94-.94-2.06-.94 2.06-2.06.94z\"/><path d=\"M17.41 7.96l-1.37-1.37c-.4-.4-.92-.59-1.43-.59-.52 0-1.04.2-1.43.59L10.3 9.45l-7.72 7.72c-.78.78-.78 2.05 0 2.83L4 21.41c.39.39.9.59 1.41.59.51 0 1.02-.2 1.41-.59l7.78-7.78 2.81-2.81c.8-.78.8-2.07 0-2.86zM5.41 20L4 18.59l7.72-7.72 1.47 1.35L5.41 20z\"/>\n",
              "  </svg>\n",
              "      </button>\n",
              "      \n",
              "  <style>\n",
              "    .colab-df-container {\n",
              "      display:flex;\n",
              "      flex-wrap:wrap;\n",
              "      gap: 12px;\n",
              "    }\n",
              "\n",
              "    .colab-df-convert {\n",
              "      background-color: #E8F0FE;\n",
              "      border: none;\n",
              "      border-radius: 50%;\n",
              "      cursor: pointer;\n",
              "      display: none;\n",
              "      fill: #1967D2;\n",
              "      height: 32px;\n",
              "      padding: 0 0 0 0;\n",
              "      width: 32px;\n",
              "    }\n",
              "\n",
              "    .colab-df-convert:hover {\n",
              "      background-color: #E2EBFA;\n",
              "      box-shadow: 0px 1px 2px rgba(60, 64, 67, 0.3), 0px 1px 3px 1px rgba(60, 64, 67, 0.15);\n",
              "      fill: #174EA6;\n",
              "    }\n",
              "\n",
              "    [theme=dark] .colab-df-convert {\n",
              "      background-color: #3B4455;\n",
              "      fill: #D2E3FC;\n",
              "    }\n",
              "\n",
              "    [theme=dark] .colab-df-convert:hover {\n",
              "      background-color: #434B5C;\n",
              "      box-shadow: 0px 1px 3px 1px rgba(0, 0, 0, 0.15);\n",
              "      filter: drop-shadow(0px 1px 2px rgba(0, 0, 0, 0.3));\n",
              "      fill: #FFFFFF;\n",
              "    }\n",
              "  </style>\n",
              "\n",
              "      <script>\n",
              "        const buttonEl =\n",
              "          document.querySelector('#df-504334dd-2da2-4abb-9bc2-f1b2ce82c098 button.colab-df-convert');\n",
              "        buttonEl.style.display =\n",
              "          google.colab.kernel.accessAllowed ? 'block' : 'none';\n",
              "\n",
              "        async function convertToInteractive(key) {\n",
              "          const element = document.querySelector('#df-504334dd-2da2-4abb-9bc2-f1b2ce82c098');\n",
              "          const dataTable =\n",
              "            await google.colab.kernel.invokeFunction('convertToInteractive',\n",
              "                                                     [key], {});\n",
              "          if (!dataTable) return;\n",
              "\n",
              "          const docLinkHtml = 'Like what you see? Visit the ' +\n",
              "            '<a target=\"_blank\" href=https://colab.research.google.com/notebooks/data_table.ipynb>data table notebook</a>'\n",
              "            + ' to learn more about interactive tables.';\n",
              "          element.innerHTML = '';\n",
              "          dataTable['output_type'] = 'display_data';\n",
              "          await google.colab.output.renderOutput(dataTable, element);\n",
              "          const docLink = document.createElement('div');\n",
              "          docLink.innerHTML = docLinkHtml;\n",
              "          element.appendChild(docLink);\n",
              "        }\n",
              "      </script>\n",
              "    </div>\n",
              "  </div>\n",
              "  "
            ]
          },
          "metadata": {},
          "execution_count": 4
        }
      ],
      "source": [
        "df"
      ]
    },
    {
      "cell_type": "markdown",
      "metadata": {
        "id": "FNID0aW1v1ql"
      },
      "source": [
        "## Data fact study"
      ]
    },
    {
      "cell_type": "markdown",
      "metadata": {
        "id": "lk5r-xBcQOrv"
      },
      "source": [
        "Now, it's your turn. In the following code blocks:\n",
        "\n",
        "\n",
        "1.   Investigate the text length (word count) distributions of the dataset. You should create a histogram or a box plot.\n",
        "\n",
        "2.   Create a barplot for label distribution.\n",
        "\n",
        "You can use `matplotlib` or `seaborn` or any other tools you like.\n",
        "\n"
      ]
    },
    {
      "cell_type": "markdown",
      "metadata": {
        "id": "-qaWIJynRI5m"
      },
      "source": [
        "Text length (total word count) distribution: \n",
        "\n",
        "Hint: tools like `NLTK` might be helpful."
      ]
    },
    {
      "cell_type": "code",
      "execution_count": null,
      "metadata": {
        "colab": {
          "base_uri": "https://localhost:8080/"
        },
        "id": "2D6gY4uwQiwv",
        "outputId": "e80b577d-c409-47ad-af49-2eb6b04e9f7e"
      },
      "outputs": [
        {
          "output_type": "error",
          "ename": "NameError",
          "evalue": "ignored",
          "traceback": [
            "\u001b[0;31m---------------------------------------------------------------------------\u001b[0m",
            "\u001b[0;31mNameError\u001b[0m                                 Traceback (most recent call last)",
            "\u001b[0;32m<ipython-input-1-8df628b2d013>\u001b[0m in \u001b[0;36m<module>\u001b[0;34m\u001b[0m\n\u001b[1;32m      4\u001b[0m \u001b[0mtweetsByWordCount\u001b[0m \u001b[0;34m=\u001b[0m \u001b[0;34m{\u001b[0m\u001b[0;34m}\u001b[0m\u001b[0;34m\u001b[0m\u001b[0;34m\u001b[0m\u001b[0m\n\u001b[1;32m      5\u001b[0m \u001b[0;34m\u001b[0m\u001b[0m\n\u001b[0;32m----> 6\u001b[0;31m \u001b[0;32mfor\u001b[0m \u001b[0mtweet\u001b[0m \u001b[0;32min\u001b[0m \u001b[0mdf\u001b[0m\u001b[0;34m[\u001b[0m\u001b[0;34m'Text'\u001b[0m\u001b[0;34m]\u001b[0m\u001b[0;34m:\u001b[0m\u001b[0;34m\u001b[0m\u001b[0;34m\u001b[0m\u001b[0m\n\u001b[0m\u001b[1;32m      7\u001b[0m   \u001b[0mwords\u001b[0m \u001b[0;34m=\u001b[0m \u001b[0mtweet\u001b[0m\u001b[0;34m.\u001b[0m\u001b[0msplit\u001b[0m\u001b[0;34m(\u001b[0m\u001b[0;34m' '\u001b[0m\u001b[0;34m)\u001b[0m\u001b[0;34m\u001b[0m\u001b[0;34m\u001b[0m\u001b[0m\n\u001b[1;32m      8\u001b[0m \u001b[0;34m\u001b[0m\u001b[0m\n",
            "\u001b[0;31mNameError\u001b[0m: name 'df' is not defined"
          ]
        }
      ],
      "source": [
        "### your code for text length distributions plot\n",
        "import matplotlib.pyplot as plt \n",
        "\n",
        "tweetsByWordCount = {}\n",
        "\n",
        "for tweet in df['Text']:\n",
        "  words = tweet.split(' ')\n",
        "\n",
        "  ### Counting the number of words in a tweet\n",
        "  numberOfWords = len(words)\n",
        "  tweetsByWordCount[numberOfWords] = tweetsByWordCount.get(numberOfWords, 0) + 1\n",
        "\n",
        "# Adding some logs here to explain the rational behind the loop - Counting the number of words in a tweet\n",
        "sampleIndex = 1\n",
        "print (\"Example of a tweet: \", df['Text'][sampleIndex])\n",
        "print (\"We extract words from that tweet: \", df['Text'][sampleIndex].split(' '))\n",
        "print (\"And count the number of words from that tweet to generate the graph, for example: \", \n",
        "       len(df['Text'][sampleIndex].split(' ')), \"\\n\\n\")\n",
        "\n",
        "textWordCount, wordOccurance = zip(*tweetsByWordCount.items())  # wordOccurance could be called \"numTweetsThatLong\" or sth if using the alternative counting approach...\n",
        "\n",
        "f = plt.figure()\n",
        "f.set_figheight(10)\n",
        "f.set_figwidth(40)\n",
        "\n",
        "key_max = max(tweetsByWordCount.values(), key=(lambda k: tweetsByWordCount.get(k, 0)))\n",
        "key_min = min(tweetsByWordCount.values(), key=(lambda k: tweetsByWordCount.get(k, 0)))\n",
        "\n",
        "plt.bar(textWordCount, wordOccurance)\n",
        "plt.xlim([key_max, 100])\n",
        "plt.xlabel('Text Word Count')\n",
        "plt.ylabel('Number of Tweets')"
      ]
    },
    {
      "cell_type": "markdown",
      "metadata": {
        "id": "0duq13lcQjlN"
      },
      "source": [
        "Label distribution:"
      ]
    },
    {
      "cell_type": "code",
      "execution_count": null,
      "metadata": {
        "colab": {
          "base_uri": "https://localhost:8080/",
          "height": 268
        },
        "id": "M_yE0QF4RHuD",
        "outputId": "6d5a135d-1411-42a7-fff0-6880a5a4b98b"
      },
      "outputs": [
        {
          "output_type": "display_data",
          "data": {
            "text/plain": [
              "<Figure size 432x288 with 1 Axes>"
            ],
            "image/png": "[encoded data removed]"
          },
          "metadata": {}
        }
      ],
      "source": [
        "import seaborn as sns\n",
        "sns.set_theme(style=\"whitegrid\")\n",
        "tips = sns.load_dataset(\"tips\")\n",
        "ax = sns.barplot(x=df.Label.value_counts().index, y=df.Label.value_counts(), data=df)"
      ]
    },
    {
      "cell_type": "markdown",
      "metadata": {
        "id": "CDRMiSWkv9a5"
      },
      "source": [
        "## Feature extraction"
      ]
    },
    {
      "cell_type": "markdown",
      "metadata": {
        "id": "QrW3WnuHUDBb"
      },
      "source": [
        "Now we can prepare feature extraction on text. \n",
        "\n",
        "\n",
        "1.   Convert the text data into bag-of-word vectors.\n",
        "2.   Convert the bag-of-word vectors into TF-IDF representations.\n",
        "\n",
        "This doc could be helpful: https://scikit-learn.org/stable/tutorial/text_analytics/working_with_text_data.html#working-with-text-data\n",
        "\n"
      ]
    },
    {
      "cell_type": "code",
      "execution_count": null,
      "metadata": {
        "id": "2vT3X2Du1HrE"
      },
      "outputs": [],
      "source": [
        "import math\n",
        "### Build a vocabulary with an integer index mapped to each unique word\n",
        "vocab = {}\n",
        "for tweet in df['Text']:\n",
        "  for word in tweet.split():\n",
        "    if word not in vocab:\n",
        "      vocab[word] = len(vocab)\n",
        "\n",
        "### Convert labels to numeric indexes\n",
        "labels = {'UNINFORMATIVE': 0, 'INFORMATIVE': 1}\n",
        "labelsByTweet = pd.Series([labels[label] for label in df['Label']])\n",
        "\n",
        "### Convert to BoW vectors\n",
        "BoWsByTweet = []\n",
        "\n",
        "for tweet in df['Text']:\n",
        "  currentTweetBoW = {}\n",
        "  for word in tweet.split():\n",
        "    currentTweetBoW[vocab[word]] = currentTweetBoW.get(vocab[word], 0) + 1\n",
        "  BoWsByTweet += [currentTweetBoW]\n",
        "\n",
        "### Convert to TF-IDF representations\n",
        "numTweets = len(BoWsByTweet)\n",
        "\n",
        "# Pre-count number of tweets that contain a word (DF) for each word in any tweet (for performance)\n",
        "tweetsWithEachWord = {}\n",
        "\n",
        "for BoW in BoWsByTweet:\n",
        "  for vocabIdx in BoW.keys():\n",
        "    tweetsWithEachWord[vocabIdx] = tweetsWithEachWord.get(vocabIdx, 0) + 1\n",
        "\n",
        "# Calculate IDF for each word (log numTweets / DF)\n",
        "idf = {vocabIdx: math.log2(numTweets / tweetsWithEachWord[vocabIdx])        # Not sure what base of logarithm we need...\n",
        "        for vocabIdx in tweetsWithEachWord.keys()}\n",
        "\n",
        "# Calculate TF for each word in each BoW\n",
        "tfByTweet = []\n",
        "for BoW in BoWsByTweet:\n",
        "  numWordsInTweet = sum(BoW.values())\n",
        "  currentTf = {vocabIdx: BoW[vocabIdx] / numWordsInTweet \n",
        "                for vocabIdx in BoW.keys()}\n",
        "  tfByTweet += [currentTf]\n",
        "\n",
        "# Multiply the TFs in each BoW by the IDFs for the respective words to get TF-IDFs\n",
        "tfidfByTweet = [{vocabIdx: tf[vocabIdx] * idf[vocabIdx]\n",
        "                    for vocabIdx in tf.keys()}\n",
        "                  for tf in tfByTweet]\n",
        "        \n",
        "# Convert dictionary to sparse matrix\n",
        "from scipy.sparse import *\n",
        "mat_tfidf = dok_matrix((len(tfidfByTweet), len(vocab)))\n",
        "for i in range(len(tfidfByTweet)):\n",
        "  for vocabIdx in tfidfByTweet[i].keys():\n",
        "    mat_tfidf[i, vocabIdx] = tfidfByTweet[i][vocabIdx]\n",
        "\n",
        "### Done! (?)"
      ]
    },
    {
      "cell_type": "markdown",
      "metadata": {
        "id": "v851SL1Iv_MV"
      },
      "source": [
        "## Data split"
      ]
    },
    {
      "cell_type": "markdown",
      "metadata": {
        "id": "1UtKCORIUxdz"
      },
      "source": [
        "Next, we will split the extracted feature vectors into train/dev/test sets.\n",
        "\n",
        "\n",
        "*   Set the proportion of train/dev/test = 7:1:2\n",
        "*   Different sets should keep the same proportions of informative/uninformative instances as observed in the original dataset.\n",
        "\n",
        "\n",
        "\n",
        "\n",
        "You can implement the split yourself or use this function: https://scikit-learn.org/stable/modules/generated/sklearn.model_selection.train_test_split.html\n",
        "\n",
        "Hint: check out the parameter `stratify` in `train_test_split`."
      ]
    },
    {
      "cell_type": "code",
      "execution_count": null,
      "metadata": {
        "id": "TWgkxD9bbw3O"
      },
      "outputs": [],
      "source": [
        "from sklearn.model_selection import train_test_split\n",
        "y = labelsByTweet #Target Variable\n",
        "X = mat_tfidf #Independent Variable\n",
        "X_train, X_rem, y_train, y_rem = train_test_split(X, y, stratify=y, train_size=3500)  \n",
        "X_test, X_dev, y_test, y_dev = train_test_split(X_rem, y_rem, stratify=y_rem, test_size=500) "
      ]
    },
    {
      "cell_type": "code",
      "source": [
        "print(X_train.shape), print(y_train.shape)\n",
        "print(X_dev.shape), print(y_dev.shape)\n",
        "print(X_test.shape), print(y_test.shape)"
      ],
      "metadata": {
        "id": "jEf5pUiHuiVQ",
        "colab": {
          "base_uri": "https://localhost:8080/"
        },
        "outputId": "42806127-548d-4600-c1dc-f9deece2043a"
      },
      "execution_count": null,
      "outputs": [
        {
          "output_type": "stream",
          "name": "stdout",
          "text": [
            "(3500, 32817)\n",
            "(3500,)\n",
            "(500, 32817)\n",
            "(500,)\n",
            "(1000, 32817)\n",
            "(1000,)\n"
          ]
        },
        {
          "output_type": "execute_result",
          "data": {
            "text/plain": [
              "(None, None)"
            ]
          },
          "metadata": {},
          "execution_count": 10
        }
      ]
    },
    {
      "cell_type": "markdown",
      "metadata": {
        "id": "EFxQbzvEQ4tr"
      },
      "source": [
        "You should split the data as following example parts.\n",
        "*   X_train\n",
        "*   X_dev \n",
        "*   X_test\n",
        "*   y_train\n",
        "*   y_dev\n",
        "*   y_test\n",
        "\n",
        "Remember to check proportion."
      ]
    },
    {
      "cell_type": "markdown",
      "metadata": {
        "id": "-NAsl0jHwDXp"
      },
      "source": [
        "## Train and evaluate using sklearn"
      ]
    },
    {
      "cell_type": "markdown",
      "metadata": {
        "id": "YFsre9k4VqZ7"
      },
      "source": [
        "Use a Logistic Regression model from Scikit-learn to do the training and evaluation on test."
      ]
    },
    {
      "cell_type": "code",
      "execution_count": null,
      "metadata": {
        "id": "3Ma6X9VEdjAI",
        "colab": {
          "base_uri": "https://localhost:8080/"
        },
        "outputId": "5e308358-22ce-43a2-cded-5002f1110cf5"
      },
      "outputs": [
        {
          "output_type": "execute_result",
          "data": {
            "text/plain": [
              "LogisticRegression(C=1)"
            ]
          },
          "metadata": {},
          "execution_count": 10
        }
      ],
      "source": [
        "import sklearn.linear_model as linear_model\n",
        "\n",
        "lr = linear_model.LogisticRegression(C=1)\n",
        "lr.fit(X_train, y_train)"
      ]
    },
    {
      "cell_type": "markdown",
      "metadata": {
        "id": "4GnPxA-FV0JR"
      },
      "source": [
        "Show the evaluation result with accuracy, F1 scores, and confusion matrix. \n",
        "\n",
        "Think about which F1 score should we use and why."
      ]
    },
    {
      "cell_type": "code",
      "execution_count": null,
      "metadata": {
        "id": "R0rtIRxA3a0W",
        "colab": {
          "base_uri": "https://localhost:8080/",
          "height": 322
        },
        "outputId": "3cf96b43-2f86-4f3f-ddf3-135a0df86efb"
      },
      "outputs": [
        {
          "output_type": "stream",
          "name": "stdout",
          "text": [
            "Accuracy:  84.8\n",
            "F1 Score:  80.0\n"
          ]
        },
        {
          "output_type": "display_data",
          "data": {
            "text/plain": [
              "<Figure size 432x288 with 2 Axes>"
            ],
            "image/png": "[encoded data removed]"
          },
          "metadata": {}
        }
      ],
      "source": [
        "from sklearn import metrics\n",
        "from sklearn.metrics import accuracy_score, f1_score\n",
        "from sklearn.metrics import confusion_matrix\n",
        "\n",
        "y_pred = lr.predict(X_test)\n",
        "\n",
        "# Accuracy\n",
        "score = accuracy_score(y_test, y_pred) * 100\n",
        "print (\"Accuracy: \", score)\n",
        "\n",
        "# F1 score\n",
        "f1_score = round(f1_score(y_test, y_pred, pos_label=1), 1) * 100\n",
        "print(\"F1 Score: \", f1_score)\n",
        " \n",
        "# Confusion Matrix\n",
        "confusion_matrix = confusion_matrix(y_true=y_test, y_pred=y_pred)\n",
        "\n",
        "cm_plot = metrics.ConfusionMatrixDisplay(confusion_matrix=confusion_matrix)\n",
        "cm_plot.plot()\n",
        "\n",
        "plt.grid(False)\n",
        "plt.show()\n"
      ]
    },
    {
      "cell_type": "markdown",
      "metadata": {
        "id": "obgLQ9xFWISc"
      },
      "source": [
        "Prepare data into PyTorch tensors. You don't need to worry about this at this moment.\n",
        "\n",
        "Let's say your train/dev/test features are named `X_train`, `X_dev`, `X_test`:"
      ]
    },
    {
      "cell_type": "markdown",
      "metadata": {
        "id": "ZXK3UUEQwU6H"
      },
      "source": [
        "## PyTorch implementation"
      ]
    },
    {
      "cell_type": "markdown",
      "metadata": {
        "id": "eTNDo6cxRh7x"
      },
      "source": [
        "Convert the feature vectors to numpy arrays. Say you have arrays `X_train`,`X_dev`,`X_test`. Change the variable names to yours if needed."
      ]
    },
    {
      "cell_type": "code",
      "execution_count": null,
      "metadata": {
        "id": "u9P4Ab1L4IlN"
      },
      "outputs": [],
      "source": [
        "X_train_array = X_train.toarray().astype('float32')\n",
        "X_dev_array = X_dev.toarray().astype('float32')\n",
        "X_test_array = X_test.toarray().astype('float32')"
      ]
    },
    {
      "cell_type": "code",
      "execution_count": null,
      "metadata": {
        "id": "MgEOjnxw5d1r"
      },
      "outputs": [],
      "source": [
        "import torch.nn as nn\n",
        "import torch.nn.functional as F"
      ]
    },
    {
      "cell_type": "markdown",
      "metadata": {
        "id": "dsWlCbRSWkZQ"
      },
      "source": [
        "Simply call the scikit-learn libraries is not exciting. In this step, we implement our own Logistic Regression model with Pytorch."
      ]
    },
    {
      "cell_type": "code",
      "execution_count": null,
      "metadata": {
        "id": "4G8Zv9B5EVVT"
      },
      "outputs": [],
      "source": [
        "import torch\n",
        "\n",
        "class LRClassifier(torch.nn.Module):\n",
        "    def __init__(self, input_dim, output_dim):\n",
        "        super(LRClassifier, self).__init__()\n",
        "        self.linear = torch.nn.Linear(input_dim, output_dim)     \n",
        "    def forward(self, x):\n",
        "        outputs = torch.sigmoid(self.linear(x))\n",
        "        return outputs"
      ]
    },
    {
      "cell_type": "markdown",
      "metadata": {
        "id": "Tokx6cAhW7-v"
      },
      "source": [
        "Specify the input dimensions and output dimensions of our LR model:"
      ]
    },
    {
      "cell_type": "code",
      "execution_count": null,
      "metadata": {
        "id": "Zw_iu3YnXDBY"
      },
      "outputs": [],
      "source": [
        "input_dim = len(vocab)     # Number of distinct words in the vocabulary observed over all tweets\n",
        "output_dim = len(labels)   # Number of classification classes = 2 = binary classifier"
      ]
    },
    {
      "cell_type": "markdown",
      "metadata": {
        "id": "gaHjEJ-EXFVB"
      },
      "source": [
        "Create instances of this model with specified input/output dimensions. No need to care about optimizer and loss function at this moment."
      ]
    },
    {
      "cell_type": "code",
      "execution_count": null,
      "metadata": {
        "id": "Py33cC6fEpo3"
      },
      "outputs": [],
      "source": [
        "model = LRClassifier(input_dim, output_dim)"
      ]
    },
    {
      "cell_type": "code",
      "execution_count": null,
      "metadata": {
        "id": "OJVuVkHlDCOX",
        "colab": {
          "base_uri": "https://localhost:8080/"
        },
        "outputId": "6bf1cd0a-547f-4388-dabb-7cb8f1093851"
      },
      "outputs": [
        {
          "output_type": "execute_result",
          "data": {
            "text/plain": [
              "LRClassifier(\n",
              "  (linear): Linear(in_features=32817, out_features=2, bias=True)\n",
              ")"
            ]
          },
          "metadata": {},
          "execution_count": 17
        }
      ],
      "source": [
        "model.to(\"cuda\") ### make the model use GPU to boost the training"
      ]
    },
    {
      "cell_type": "markdown",
      "metadata": {
        "id": "qaVELyYHYAQf"
      },
      "source": [
        "## Training"
      ]
    },
    {
      "cell_type": "markdown",
      "metadata": {
        "id": "YsHY8mdsX-lT"
      },
      "source": [
        "Our first training loop!\n",
        "\n",
        "Input text_tensor is in shape [input_dim]\n",
        "\n",
        "\n",
        "Label is in shape [1, output_dim]\n",
        "\n",
        "`convert_to_one_hot` function can change one label digit to the required shape. For example, label `0` to '[1, 0]', `1` to '[0, 1]'."
      ]
    },
    {
      "cell_type": "code",
      "execution_count": null,
      "metadata": {
        "id": "Xi3u5241Ejem"
      },
      "outputs": [],
      "source": [
        "epochs = 1000\n",
        "learning_rate = 0.5"
      ]
    },
    {
      "cell_type": "code",
      "execution_count": null,
      "metadata": {
        "id": "6zsV50F_5C64"
      },
      "outputs": [],
      "source": [
        "optimizer = torch.optim.SGD(model.parameters(), lr=learning_rate, momentum=0.9) ### no need to care about this optimizer at this moment\n",
        "loss_fn = nn.BCELoss() "
      ]
    },
    {
      "cell_type": "code",
      "execution_count": null,
      "metadata": {
        "id": "zV7-zH0SVj-Q"
      },
      "outputs": [],
      "source": [
        "def convert_to_one_hot(label_tensor):\n",
        "    return F.one_hot(label_tensor, num_classes=2).float()"
      ]
    },
    {
      "cell_type": "code",
      "execution_count": null,
      "metadata": {
        "id": "M1SB14W5H342",
        "colab": {
          "base_uri": "https://localhost:8080/"
        },
        "outputId": "f14c5a2e-b824-4a40-9766-92ee5fd8bd6d"
      },
      "outputs": [
        {
          "output_type": "execute_result",
          "data": {
            "text/plain": [
              "tensor([0., 1.])"
            ]
          },
          "metadata": {},
          "execution_count": 21
        }
      ],
      "source": [
        "convert_to_one_hot(torch.tensor(1)) ### example 1"
      ]
    },
    {
      "cell_type": "code",
      "execution_count": null,
      "metadata": {
        "id": "Nqk2ax1tHtxm",
        "colab": {
          "base_uri": "https://localhost:8080/"
        },
        "outputId": "6a6296c1-7278-4362-95f6-92560be5bb84"
      },
      "outputs": [
        {
          "output_type": "execute_result",
          "data": {
            "text/plain": [
              "tensor([[0., 1.],\n",
              "        [1., 0.],\n",
              "        [0., 1.]])"
            ]
          },
          "metadata": {},
          "execution_count": 22
        }
      ],
      "source": [
        "convert_to_one_hot(torch.tensor([1,0,1])) ### example 2"
      ]
    },
    {
      "cell_type": "code",
      "execution_count": null,
      "metadata": {
        "id": "5eIGcQCA5DAO"
      },
      "outputs": [],
      "source": [
        "def train(model, optimizer, tweets, labels):\n",
        "    model.train() # no need to change\n",
        "    epoch_loss = []\n",
        "\n",
        "    for text, label in zip(tweets, labels):\n",
        "\n",
        "        # convert input and labels to PyTorch tensor if didn't do, make them on gpu\n",
        "        text_tensor = torch.tensor(text).to(\"cuda\")\n",
        "        label = convert_to_one_hot(torch.tensor(label)).to(\"cuda\")\n",
        "\n",
        "        # the model should take vectors that representing a piice of text\n",
        "        # predicted probability distributions\n",
        "        output = model(text_tensor)\n",
        "\n",
        "        # the loss is between the predictions and the true label\n",
        "        # calculate loss, no need to change\n",
        "        loss = loss_fn(output, label)\n",
        "        epoch_loss.append(loss.item())\n",
        "    \n",
        "        # Backward pass, no need to change\n",
        "        optimizer.zero_grad()\n",
        "        loss.backward()\n",
        "\n",
        "        # Step with optimizer, no need to change\n",
        "        optimizer.step()\n",
        "\n",
        "    # calculate the avg of accumulated losses\n",
        "    return sum(epoch_loss)/len(epoch_loss)"
      ]
    },
    {
      "cell_type": "markdown",
      "metadata": {
        "id": "MlMf4wF0e-lw"
      },
      "source": [
        "You may notice this training takes quite some time. \n",
        "Run it but no need to wait till it ends, you can stop it when you see the estimated time."
      ]
    },
    {
      "cell_type": "code",
      "execution_count": null,
      "metadata": {
        "id": "lvw4UrxOY1y2",
        "colab": {
          "base_uri": "https://localhost:8080/",
          "height": 427
        },
        "outputId": "0b6da38e-97bf-4a25-c1ce-c5ec2bca2c3d"
      },
      "outputs": [
        {
          "output_type": "stream",
          "name": "stderr",
          "text": [
            " 10%|█         | 100/1000 [04:50<43:18,  2.89s/it]"
          ]
        },
        {
          "output_type": "stream",
          "name": "stdout",
          "text": [
            "0.0016483258458429983\n"
          ]
        },
        {
          "output_type": "stream",
          "name": "stderr",
          "text": [
            " 10%|█         | 101/1000 [04:54<43:43,  2.92s/it]\n"
          ]
        },
        {
          "output_type": "error",
          "ename": "KeyboardInterrupt",
          "evalue": "ignored",
          "traceback": [
            "\u001b[0;31m---------------------------------------------------------------------------\u001b[0m",
            "\u001b[0;31mKeyboardInterrupt\u001b[0m                         Traceback (most recent call last)",
            "\u001b[0;32m<ipython-input-259-1cbac891e2f7>\u001b[0m in \u001b[0;36m<module>\u001b[0;34m\u001b[0m\n\u001b[1;32m      3\u001b[0m \u001b[0;32mfor\u001b[0m \u001b[0mepoch\u001b[0m \u001b[0;32min\u001b[0m \u001b[0mtqdm\u001b[0m\u001b[0;34m(\u001b[0m\u001b[0mrange\u001b[0m\u001b[0;34m(\u001b[0m\u001b[0mepochs\u001b[0m\u001b[0;34m)\u001b[0m\u001b[0;34m)\u001b[0m\u001b[0;34m:\u001b[0m\u001b[0;34m\u001b[0m\u001b[0;34m\u001b[0m\u001b[0m\n\u001b[1;32m      4\u001b[0m \u001b[0;34m\u001b[0m\u001b[0m\n\u001b[0;32m----> 5\u001b[0;31m     \u001b[0mepoch_loss\u001b[0m \u001b[0;34m=\u001b[0m \u001b[0mtrain\u001b[0m\u001b[0;34m(\u001b[0m\u001b[0mmodel\u001b[0m\u001b[0;34m,\u001b[0m \u001b[0moptimizer\u001b[0m\u001b[0;34m,\u001b[0m \u001b[0mX_train_array\u001b[0m\u001b[0;34m,\u001b[0m \u001b[0my_train\u001b[0m\u001b[0;34m)\u001b[0m\u001b[0;34m\u001b[0m\u001b[0;34m\u001b[0m\u001b[0m\n\u001b[0m\u001b[1;32m      6\u001b[0m \u001b[0;34m\u001b[0m\u001b[0m\n\u001b[1;32m      7\u001b[0m     \u001b[0;31m# Report metrics every 190 epochs\u001b[0m\u001b[0;34m\u001b[0m\u001b[0;34m\u001b[0m\u001b[0;34m\u001b[0m\u001b[0m\n",
            "\u001b[0;32m<ipython-input-19-a9d84bf2cdde>\u001b[0m in \u001b[0;36mtrain\u001b[0;34m(model, optimizer, tweets, labels)\u001b[0m\n\u001b[1;32m     23\u001b[0m \u001b[0;34m\u001b[0m\u001b[0m\n\u001b[1;32m     24\u001b[0m         \u001b[0;31m# Step with optimizer, no need to change\u001b[0m\u001b[0;34m\u001b[0m\u001b[0;34m\u001b[0m\u001b[0;34m\u001b[0m\u001b[0m\n\u001b[0;32m---> 25\u001b[0;31m         \u001b[0moptimizer\u001b[0m\u001b[0;34m.\u001b[0m\u001b[0mstep\u001b[0m\u001b[0;34m(\u001b[0m\u001b[0;34m)\u001b[0m\u001b[0;34m\u001b[0m\u001b[0;34m\u001b[0m\u001b[0m\n\u001b[0m\u001b[1;32m     26\u001b[0m \u001b[0;34m\u001b[0m\u001b[0m\n\u001b[1;32m     27\u001b[0m     \u001b[0;31m# calculate the avg of accumulated losses\u001b[0m\u001b[0;34m\u001b[0m\u001b[0;34m\u001b[0m\u001b[0;34m\u001b[0m\u001b[0m\n",
            "\u001b[0;32m/usr/local/lib/python3.7/dist-packages/torch/optim/optimizer.py\u001b[0m in \u001b[0;36mwrapper\u001b[0;34m(*args, **kwargs)\u001b[0m\n\u001b[1;32m    110\u001b[0m                 \u001b[0mobj\u001b[0m\u001b[0;34m,\u001b[0m \u001b[0;34m*\u001b[0m\u001b[0m_\u001b[0m \u001b[0;34m=\u001b[0m \u001b[0margs\u001b[0m\u001b[0;34m\u001b[0m\u001b[0;34m\u001b[0m\u001b[0m\n\u001b[1;32m    111\u001b[0m                 \u001b[0mprofile_name\u001b[0m \u001b[0;34m=\u001b[0m \u001b[0;34m\"Optimizer.step#{}.step\"\u001b[0m\u001b[0;34m.\u001b[0m\u001b[0mformat\u001b[0m\u001b[0;34m(\u001b[0m\u001b[0mobj\u001b[0m\u001b[0;34m.\u001b[0m\u001b[0m__class__\u001b[0m\u001b[0;34m.\u001b[0m\u001b[0m__name__\u001b[0m\u001b[0;34m)\u001b[0m\u001b[0;34m\u001b[0m\u001b[0;34m\u001b[0m\u001b[0m\n\u001b[0;32m--> 112\u001b[0;31m                 \u001b[0;32mwith\u001b[0m \u001b[0mtorch\u001b[0m\u001b[0;34m.\u001b[0m\u001b[0mautograd\u001b[0m\u001b[0;34m.\u001b[0m\u001b[0mprofiler\u001b[0m\u001b[0;34m.\u001b[0m\u001b[0mrecord_function\u001b[0m\u001b[0;34m(\u001b[0m\u001b[0mprofile_name\u001b[0m\u001b[0;34m)\u001b[0m\u001b[0;34m:\u001b[0m\u001b[0;34m\u001b[0m\u001b[0;34m\u001b[0m\u001b[0m\n\u001b[0m\u001b[1;32m    113\u001b[0m                     \u001b[0;32mreturn\u001b[0m \u001b[0mfunc\u001b[0m\u001b[0;34m(\u001b[0m\u001b[0;34m*\u001b[0m\u001b[0margs\u001b[0m\u001b[0;34m,\u001b[0m \u001b[0;34m**\u001b[0m\u001b[0mkwargs\u001b[0m\u001b[0;34m)\u001b[0m\u001b[0;34m\u001b[0m\u001b[0;34m\u001b[0m\u001b[0m\n\u001b[1;32m    114\u001b[0m             \u001b[0;32mreturn\u001b[0m \u001b[0mwrapper\u001b[0m\u001b[0;34m\u001b[0m\u001b[0;34m\u001b[0m\u001b[0m\n",
            "\u001b[0;32m/usr/local/lib/python3.7/dist-packages/torch/autograd/profiler.py\u001b[0m in \u001b[0;36m__enter__\u001b[0;34m(self)\u001b[0m\n\u001b[1;32m    444\u001b[0m \u001b[0;34m\u001b[0m\u001b[0m\n\u001b[1;32m    445\u001b[0m     \u001b[0;32mdef\u001b[0m \u001b[0m__enter__\u001b[0m\u001b[0;34m(\u001b[0m\u001b[0mself\u001b[0m\u001b[0;34m)\u001b[0m\u001b[0;34m:\u001b[0m\u001b[0;34m\u001b[0m\u001b[0;34m\u001b[0m\u001b[0m\n\u001b[0;32m--> 446\u001b[0;31m         \u001b[0mself\u001b[0m\u001b[0;34m.\u001b[0m\u001b[0mhandle\u001b[0m \u001b[0;34m=\u001b[0m \u001b[0mtorch\u001b[0m\u001b[0;34m.\u001b[0m\u001b[0mops\u001b[0m\u001b[0;34m.\u001b[0m\u001b[0mprofiler\u001b[0m\u001b[0;34m.\u001b[0m\u001b[0m_record_function_enter\u001b[0m\u001b[0;34m(\u001b[0m\u001b[0mself\u001b[0m\u001b[0;34m.\u001b[0m\u001b[0mname\u001b[0m\u001b[0;34m,\u001b[0m \u001b[0mself\u001b[0m\u001b[0;34m.\u001b[0m\u001b[0margs\u001b[0m\u001b[0;34m)\u001b[0m\u001b[0;34m\u001b[0m\u001b[0;34m\u001b[0m\u001b[0m\n\u001b[0m\u001b[1;32m    447\u001b[0m         \u001b[0;32mreturn\u001b[0m \u001b[0mself\u001b[0m\u001b[0;34m\u001b[0m\u001b[0;34m\u001b[0m\u001b[0m\n\u001b[1;32m    448\u001b[0m \u001b[0;34m\u001b[0m\u001b[0m\n",
            "\u001b[0;32m/usr/local/lib/python3.7/dist-packages/torch/_ops.py\u001b[0m in \u001b[0;36m__call__\u001b[0;34m(self, *args, **kwargs)\u001b[0m\n\u001b[1;32m    141\u001b[0m         \u001b[0;31m# We save the function ptr as the `op` attribute on\u001b[0m\u001b[0;34m\u001b[0m\u001b[0;34m\u001b[0m\u001b[0;34m\u001b[0m\u001b[0m\n\u001b[1;32m    142\u001b[0m         \u001b[0;31m# OpOverloadPacket to access it here.\u001b[0m\u001b[0;34m\u001b[0m\u001b[0;34m\u001b[0m\u001b[0;34m\u001b[0m\u001b[0m\n\u001b[0;32m--> 143\u001b[0;31m         \u001b[0;32mreturn\u001b[0m \u001b[0mself\u001b[0m\u001b[0;34m.\u001b[0m\u001b[0m_op\u001b[0m\u001b[0;34m(\u001b[0m\u001b[0;34m*\u001b[0m\u001b[0margs\u001b[0m\u001b[0;34m,\u001b[0m \u001b[0;34m**\u001b[0m\u001b[0mkwargs\u001b[0m \u001b[0;32mor\u001b[0m \u001b[0;34m{\u001b[0m\u001b[0;34m}\u001b[0m\u001b[0;34m)\u001b[0m\u001b[0;34m\u001b[0m\u001b[0;34m\u001b[0m\u001b[0m\n\u001b[0m\u001b[1;32m    144\u001b[0m \u001b[0;34m\u001b[0m\u001b[0m\n\u001b[1;32m    145\u001b[0m     \u001b[0;31m# TODO: use this to make a __dir__\u001b[0m\u001b[0;34m\u001b[0m\u001b[0;34m\u001b[0m\u001b[0;34m\u001b[0m\u001b[0m\n",
            "\u001b[0;31mKeyboardInterrupt\u001b[0m: "
          ]
        }
      ],
      "source": [
        "from tqdm import tqdm\n",
        "\n",
        "for epoch in tqdm(range(epochs)):\n",
        "\n",
        "    epoch_loss = train(model, optimizer, X_train_array, y_train)\n",
        "\n",
        "    # Report metrics every 190 epochs\n",
        "    if ((epoch+1) % 100) == 0:\n",
        "        print(epoch_loss)"
      ]
    },
    {
      "cell_type": "code",
      "execution_count": null,
      "metadata": {
        "id": "8GBJKr89eWfO"
      },
      "outputs": [],
      "source": [
        "### evaluation script\n",
        "### no need to run if things above takes so long\n",
        "\n",
        "@torch.no_grad() ### don't change\n",
        "def evaluate(model, tweets): ### input: feature vectors\n",
        "    model.eval() ### don't change\n",
        "    preds = []\n",
        "    for text in tweets:\n",
        "        text_tensor = torch.unsqueeze(torch.tensor(text), 0).to(\"cuda\")\n",
        "        output = model(text_tensor)\n",
        "        pred = torch.argmax(output, dim=1)\n",
        "        preds.append(pred.item())\n",
        "\n",
        "    return preds"
      ]
    },
    {
      "cell_type": "code",
      "execution_count": null,
      "metadata": {
        "id": "i6aXW6_-fOxw"
      },
      "outputs": [],
      "source": [
        "test_pred = evaluate(model, X_test_array) ### no need to run if things above takes so long"
      ]
    },
    {
      "cell_type": "code",
      "execution_count": null,
      "metadata": {
        "id": "t4UVWoXwfO0i",
        "colab": {
          "base_uri": "https://localhost:8080/",
          "height": 315
        },
        "outputId": "f2bb1114-afc7-4820-abf2-2689bccfe07e"
      },
      "outputs": [
        {
          "output_type": "stream",
          "name": "stdout",
          "text": [
            "Accuracy:  84.3\n",
            "F1 Score:  80.0\n"
          ]
        },
        {
          "output_type": "display_data",
          "data": {
            "text/plain": [
              "<Figure size 432x288 with 2 Axes>"
            ],
            "image/png": "[encoded data removed]"
          },
          "metadata": {
            "needs_background": "light"
          }
        }
      ],
      "source": [
        "### no need to run if things above takes so long\n",
        "### code to show your evaluation result\n",
        "from sklearn import metrics\n",
        "from sklearn.metrics import accuracy_score, f1_score\n",
        "from sklearn.metrics import confusion_matrix\n",
        "\n",
        "# Accuracy\n",
        "score = accuracy_score(y_test, test_pred) * 100\n",
        "print (\"Accuracy: \", score)\n",
        "\n",
        "# F1 score\n",
        "f1_score = round(f1_score(y_test, test_pred, pos_label=1), 1) * 100\n",
        "print(\"F1 Score: \", f1_score)\n",
        " \n",
        "# Confusion Matrix\n",
        "confusion_matrix = confusion_matrix(y_true=y_test, y_pred=test_pred)\n",
        "\n",
        "cm_plot = metrics.ConfusionMatrixDisplay(confusion_matrix=confusion_matrix)\n",
        "cm_plot.plot()\n",
        "\n",
        "plt.grid(False)\n",
        "plt.show()"
      ]
    },
    {
      "cell_type": "markdown",
      "metadata": {
        "id": "Z6D6V6vZYFei"
      },
      "source": [
        "You may notice this training takes quite some time. \n",
        "\n",
        "No need to wait till it ends, let's modify it to make it run in `batches`, which means the model will take `N * feature_dimenson` features and `N` labels at one pass. This change should make the training way faster."
      ]
    },
    {
      "cell_type": "markdown",
      "metadata": {
        "id": "0D_-7Pw450Dp"
      },
      "source": [
        "## Train in batch"
      ]
    },
    {
      "cell_type": "code",
      "execution_count": null,
      "metadata": {
        "id": "gfojhdeSatrj"
      },
      "outputs": [],
      "source": [
        "### create a new model using the same setting\n",
        "model_batch = LRClassifier(input_dim, output_dim)\n",
        "optimizer_batch = torch.optim.SGD(model_batch.parameters(), lr=learning_rate, momentum=0.9)"
      ]
    },
    {
      "cell_type": "code",
      "execution_count": null,
      "metadata": {
        "id": "yHGmsy8qa8cj",
        "colab": {
          "base_uri": "https://localhost:8080/"
        },
        "outputId": "16650b38-7a65-4ea6-d4fe-168686c8393d"
      },
      "outputs": [
        {
          "output_type": "execute_result",
          "data": {
            "text/plain": [
              "LRClassifier(\n",
              "  (linear): Linear(in_features=32817, out_features=2, bias=True)\n",
              ")"
            ]
          },
          "metadata": {},
          "execution_count": 249
        }
      ],
      "source": [
        "model_batch.to(\"cuda\") ### gpu accelearting"
      ]
    },
    {
      "cell_type": "markdown",
      "metadata": {
        "id": "9hows_PQTei2"
      },
      "source": [
        " Let's make it run in batches:"
      ]
    },
    {
      "cell_type": "code",
      "source": [
        "'''\n",
        "Source: https://towardsdatascience.com/how-to-use-datasets-and-dataloader-in-pytorch-for-custom-text-data-270eed7f7c00\n",
        "'''\n",
        "from torch.utils.data import Dataset, DataLoader\n",
        "\n",
        "class CustomTextDataset(Dataset):\n",
        "\n",
        "    def __init__(self, txt, labels):\n",
        "        self.text = txt\n",
        "        self.labels = labels\n",
        "\n",
        "    def __len__(self):\n",
        "        return len(self.labels)\n",
        "\n",
        "    def __getitem__(self, idx):\n",
        "        label = self.labels[idx]\n",
        "        text = self.text[idx]\n",
        "        sample = {'Text': text, 'Label': label}\n",
        "        return sample"
      ],
      "metadata": {
        "id": "mnpdvmDuRCx7"
      },
      "execution_count": null,
      "outputs": []
    },
    {
      "cell_type": "code",
      "execution_count": null,
      "metadata": {
        "id": "unNe-qKo5xTZ"
      },
      "outputs": [],
      "source": [
        "### modify the train loop above and make it run in batches\n",
        "def train_batch(model, optimizer, tweets, labels, batch_size = 100): \n",
        "    model.train() # no need to change\n",
        "    epoch_loss = []\n",
        "    total_acc, total_count = 0, 0\n",
        "\n",
        "    # convert the tweets and labels into a custom dataset to do matrix multiplications\n",
        "    TD = CustomTextDataset(tweets, labels)\n",
        "    train_loader = torch.utils.data.DataLoader(TD, batch_size=batch_size)\n",
        "\n",
        "    for idx, sample in enumerate(train_loader):\n",
        "\n",
        "      text, label = sample['Text'], sample['Label']\n",
        "\n",
        "      # convert input and labels to PyTorch tensor if didn't do, make them on gpu\n",
        "      text_tensor = text.to(\"cuda\")\n",
        "      label = convert_to_one_hot(label).to(\"cuda\")\n",
        "\n",
        "      # the model should take vectors that representing a piice of text\n",
        "      # predicted probability distributions\n",
        "      output = model(text_tensor)\n",
        "\n",
        "      # the loss is between the predictions and the true label\n",
        "      # calculate loss, no need to change\n",
        "      loss = loss_fn(output, label)\n",
        "      epoch_loss.append(loss.item()/batch_size)\n",
        "  \n",
        "      # Backward pass, no need to change\n",
        "      optimizer.zero_grad()\n",
        "      loss.backward()\n",
        "\n",
        "      # Step with optimizer, no need to change\n",
        "      optimizer.step()\n",
        "\n",
        "    # calculate the avg of accumulated losses\n",
        "    return (sum(epoch_loss)/len(epoch_loss))"
      ]
    },
    {
      "cell_type": "code",
      "execution_count": null,
      "metadata": {
        "id": "iOrEZ_hHaGCz",
        "colab": {
          "base_uri": "https://localhost:8080/"
        },
        "outputId": "68704904-5a0e-4e4e-d52b-07e167449202"
      },
      "outputs": [
        {
          "output_type": "stream",
          "name": "stderr",
          "text": [
            " 10%|█         | 100/1000 [00:27<03:35,  4.17it/s]"
          ]
        },
        {
          "output_type": "stream",
          "name": "stdout",
          "text": [
            "\t | Epoch_loss:  0.001568987988999912\n"
          ]
        },
        {
          "output_type": "stream",
          "name": "stderr",
          "text": [
            " 20%|██        | 200/1000 [00:51<03:10,  4.20it/s]"
          ]
        },
        {
          "output_type": "stream",
          "name": "stdout",
          "text": [
            "\t | Epoch_loss:  0.0009059636848313469\n"
          ]
        },
        {
          "output_type": "stream",
          "name": "stderr",
          "text": [
            " 30%|███       | 300/1000 [01:15<02:46,  4.21it/s]"
          ]
        },
        {
          "output_type": "stream",
          "name": "stdout",
          "text": [
            "\t | Epoch_loss:  0.000628749522779669\n"
          ]
        },
        {
          "output_type": "stream",
          "name": "stderr",
          "text": [
            " 40%|████      | 400/1000 [01:39<02:22,  4.20it/s]"
          ]
        },
        {
          "output_type": "stream",
          "name": "stdout",
          "text": [
            "\t | Epoch_loss:  0.00047831407934427266\n"
          ]
        },
        {
          "output_type": "stream",
          "name": "stderr",
          "text": [
            " 50%|█████     | 500/1000 [02:03<01:58,  4.22it/s]"
          ]
        },
        {
          "output_type": "stream",
          "name": "stdout",
          "text": [
            "\t | Epoch_loss:  0.0003846501213099274\n"
          ]
        },
        {
          "output_type": "stream",
          "name": "stderr",
          "text": [
            " 60%|██████    | 600/1000 [02:27<01:35,  4.17it/s]"
          ]
        },
        {
          "output_type": "stream",
          "name": "stdout",
          "text": [
            "\t | Epoch_loss:  0.0003210416963057858\n"
          ]
        },
        {
          "output_type": "stream",
          "name": "stderr",
          "text": [
            " 70%|███████   | 700/1000 [02:51<01:11,  4.21it/s]"
          ]
        },
        {
          "output_type": "stream",
          "name": "stdout",
          "text": [
            "\t | Epoch_loss:  0.0002751614541879723\n"
          ]
        },
        {
          "output_type": "stream",
          "name": "stderr",
          "text": [
            " 80%|████████  | 800/1000 [03:15<00:48,  4.13it/s]"
          ]
        },
        {
          "output_type": "stream",
          "name": "stdout",
          "text": [
            "\t | Epoch_loss:  0.00024057085439562807\n"
          ]
        },
        {
          "output_type": "stream",
          "name": "stderr",
          "text": [
            " 90%|█████████ | 900/1000 [03:39<00:24,  4.11it/s]"
          ]
        },
        {
          "output_type": "stream",
          "name": "stdout",
          "text": [
            "\t | Epoch_loss:  0.00021359415033033913\n"
          ]
        },
        {
          "output_type": "stream",
          "name": "stderr",
          "text": [
            "100%|██████████| 1000/1000 [04:03<00:00,  4.10it/s]"
          ]
        },
        {
          "output_type": "stream",
          "name": "stdout",
          "text": [
            "\t | Epoch_loss:  0.00019198614811258657\n"
          ]
        },
        {
          "output_type": "stream",
          "name": "stderr",
          "text": [
            "\n"
          ]
        }
      ],
      "source": [
        "from tqdm import tqdm\n",
        "\n",
        "y_train = y_train.tolist()\n",
        "\n",
        "for epoch in tqdm(range(epochs)):\n",
        "  epoch_loss = train_batch(model_batch, optimizer_batch, X_train_array, y_train, batch_size = 100)\n",
        "\n",
        "  # Report metrics every 100 epochs\n",
        "  if ((epoch+1) % 100) == 0:\n",
        "    print('\\t | Epoch_loss: ', epoch_loss)"
      ]
    },
    {
      "cell_type": "code",
      "execution_count": null,
      "metadata": {
        "id": "_0tJrRnLaiPe"
      },
      "outputs": [],
      "source": [
        "test_pred = evaluate(model_batch, X_test_array) ### eval on test set"
      ]
    },
    {
      "cell_type": "code",
      "execution_count": null,
      "metadata": {
        "id": "7rY1zrU7d5tC",
        "colab": {
          "base_uri": "https://localhost:8080/",
          "height": 315
        },
        "outputId": "3c87ca1e-fe4d-4b48-8f19-7bd0ae1d2b5d"
      },
      "outputs": [
        {
          "output_type": "stream",
          "name": "stdout",
          "text": [
            "Accuracy:  84.7\n",
            "F1 Score:  80.0\n"
          ]
        },
        {
          "output_type": "display_data",
          "data": {
            "text/plain": [
              "<Figure size 432x288 with 2 Axes>"
            ],
            "image/png": "[encoded data removed]"
          },
          "metadata": {
            "needs_background": "light"
          }
        }
      ],
      "source": [
        "### code to show your evaluation result\n",
        "\n",
        "from sklearn import metrics\n",
        "from sklearn.metrics import accuracy_score, f1_score\n",
        "from sklearn.metrics import confusion_matrix\n",
        "\n",
        "# Accuracy\n",
        "score = accuracy_score(y_test, test_pred) * 100\n",
        "print (\"Accuracy: \", score)\n",
        "\n",
        "# F1 score\n",
        "f1_score = round(f1_score(y_test, test_pred, pos_label=1), 1) * 100\n",
        "print(\"F1 Score: \", f1_score)\n",
        " \n",
        "# Confusion Matrix\n",
        "confusion_matrix = confusion_matrix(y_true=y_test, y_pred=test_pred)\n",
        "\n",
        "cm_plot = metrics.ConfusionMatrixDisplay(confusion_matrix=confusion_matrix)\n",
        "cm_plot.plot()\n",
        "\n",
        "plt.grid(False)\n",
        "plt.show()"
      ]
    },
    {
      "cell_type": "markdown",
      "metadata": {
        "id": "AnC122IyZDTA"
      },
      "source": [
        "## Early stopping\n",
        "The batch-ed training works much faster even if we train it for 1000 epochs!\n",
        "\n",
        "But is it the best practice to train 1000 epochs under any circumstances? No, we should make the training stop at an optimal point that the model is not overfitted and can give best performance on unseen data. Also, we will save time during the training."
      ]
    },
    {
      "cell_type": "markdown",
      "metadata": {
        "id": "xZ4ihbtce72k"
      },
      "source": [
        "We will then introduce `early stop` to our training loop. By montoring the loss on the dev data, we will know when is the best time to stop training."
      ]
    },
    {
      "cell_type": "code",
      "execution_count": null,
      "metadata": {
        "id": "4yAqJkgCgqWK"
      },
      "outputs": [],
      "source": [
        "model_batch = LRClassifier(input_dim, output_dim)\n",
        "optimizer_batch = torch.optim.SGD(model_batch.parameters(), lr=0.5, momentum=0.9)"
      ]
    },
    {
      "cell_type": "code",
      "execution_count": null,
      "metadata": {
        "id": "FtJ6dfrvgrxK",
        "colab": {
          "base_uri": "https://localhost:8080/"
        },
        "outputId": "3a544686-bf8d-40e7-fedf-bc8de9b5b046"
      },
      "outputs": [
        {
          "output_type": "execute_result",
          "data": {
            "text/plain": [
              "LRClassifier(\n",
              "  (linear): Linear(in_features=32817, out_features=2, bias=True)\n",
              ")"
            ]
          },
          "metadata": {},
          "execution_count": 254
        }
      ],
      "source": [
        "model_batch.to(\"cuda\")"
      ]
    },
    {
      "cell_type": "markdown",
      "metadata": {
        "id": "23q5h29CU--F"
      },
      "source": [
        "Hint: this function below helps to get evaluation loss"
      ]
    },
    {
      "cell_type": "code",
      "execution_count": null,
      "metadata": {
        "id": "qos9N8wo_ZTE"
      },
      "outputs": [],
      "source": [
        "@torch.no_grad()\n",
        "def evaluate_loss(model, tweets, labels):\n",
        "    model.eval()\n",
        "    epoch_loss = []\n",
        "    for text, label in zip(tweets, labels):\n",
        "      \n",
        "        text_tensor = torch.tensor(text).to(\"cuda\")\n",
        "        label = convert_to_one_hot(torch.tensor(label)).to(\"cuda\")\n",
        "\n",
        "        output = model(text_tensor)\n",
        "        loss = loss_fn(output, label)\n",
        "        \n",
        "        epoch_loss.append(loss.item())\n",
        "    \n",
        "    return sum(epoch_loss)/len(epoch_loss)"
      ]
    },
    {
      "cell_type": "code",
      "execution_count": null,
      "metadata": {
        "id": "9MOSNwPgzQ7c"
      },
      "outputs": [],
      "source": [
        "@torch.no_grad()\n",
        "def evaluate(model, tweets):\n",
        "    model.eval()\n",
        "    preds = []\n",
        "    for text in tweets:\n",
        "        text_tensor = torch.unsqueeze(torch.tensor(text), 0).to(\"cuda\")\n",
        "        output = model(text_tensor)\n",
        "        pred = torch.argmax(output, dim=1)\n",
        "        preds.append(pred.item())\n",
        "\n",
        "    return preds"
      ]
    },
    {
      "cell_type": "code",
      "execution_count": null,
      "metadata": {
        "id": "ADOAnu2we9XN",
        "colab": {
          "base_uri": "https://localhost:8080/"
        },
        "outputId": "999b5d73-decb-4888-cfa6-4931d77b7324"
      },
      "outputs": [
        {
          "output_type": "stream",
          "name": "stderr",
          "text": [
            "  5%|▌         | 50/1000 [00:20<06:37,  2.39it/s]"
          ]
        },
        {
          "output_type": "stream",
          "name": "stdout",
          "text": [
            "0.0024164894052914215\n"
          ]
        },
        {
          "output_type": "stream",
          "name": "stderr",
          "text": [
            " 10%|█         | 100/1000 [00:42<06:37,  2.27it/s]"
          ]
        },
        {
          "output_type": "stream",
          "name": "stdout",
          "text": [
            "0.0015690096616744996\n"
          ]
        },
        {
          "output_type": "stream",
          "name": "stderr",
          "text": [
            " 15%|█▌        | 150/1000 [01:03<05:52,  2.41it/s]"
          ]
        },
        {
          "output_type": "stream",
          "name": "stdout",
          "text": [
            "0.001152662049446787\n"
          ]
        },
        {
          "output_type": "stream",
          "name": "stderr",
          "text": [
            " 19%|█▉        | 193/1000 [01:23<05:48,  2.31it/s]\n"
          ]
        }
      ],
      "source": [
        "### your code to implement early stop\n",
        "early_stop_epsilon = 0.00005\n",
        "patience = 20\n",
        "epochs_since_improvement = 0\n",
        "prev_validation_loss = None\n",
        "\n",
        "for epoch in tqdm(range(epochs)):\n",
        "\n",
        "    epoch_loss = train_batch(model_batch, optimizer_batch, X_train_array, y_train, batch_size = 100)\n",
        "\n",
        "    # Check validation error\n",
        "    validation_loss = evaluate_loss(model_batch, X_dev_array, y_dev)\n",
        "\n",
        "    # Reset the improvement patience if the validation loss improves enough since last epoch\n",
        "    if prev_validation_loss:\n",
        "      if prev_validation_loss - validation_loss >= early_stop_epsilon:\n",
        "        epochs_since_improvement = 0\n",
        "\n",
        "    # Early stop if too many epochs have passed without improvement\n",
        "    if epochs_since_improvement >= patience:\n",
        "      break\n",
        "    \n",
        "    # Update the record of validation loss per epoch\n",
        "    prev_validation_loss = validation_loss\n",
        "    epochs_since_improvement += 1      \n",
        "\n",
        "    # Report metrics every 50 batch\n",
        "    if ((epoch+1) % 50) == 0:\n",
        "        print(epoch_loss)\n"
      ]
    },
    {
      "cell_type": "code",
      "execution_count": null,
      "metadata": {
        "id": "lWAfOQZ7kv_S"
      },
      "outputs": [],
      "source": [
        "test_pred = evaluate(model_batch, X_test_array)"
      ]
    },
    {
      "cell_type": "code",
      "execution_count": null,
      "metadata": {
        "id": "DxdtW1iHkyBG",
        "colab": {
          "base_uri": "https://localhost:8080/",
          "height": 315
        },
        "outputId": "19872018-23b3-40d5-9fec-1b7171548c68"
      },
      "outputs": [
        {
          "output_type": "stream",
          "name": "stdout",
          "text": [
            "Accuracy:  85.0\n",
            "F1 Score:  80.0\n"
          ]
        },
        {
          "output_type": "display_data",
          "data": {
            "text/plain": [
              "<Figure size 432x288 with 2 Axes>"
            ],
            "image/png": "[encoded data removed]"
          },
          "metadata": {
            "needs_background": "light"
          }
        }
      ],
      "source": [
        "### your evaluation code\n",
        "from sklearn import metrics\n",
        "from sklearn.metrics import accuracy_score, f1_score\n",
        "from sklearn.metrics import confusion_matrix\n",
        "\n",
        "# Accuracy\n",
        "score = accuracy_score(y_test, test_pred) * 100\n",
        "print (\"Accuracy: \", score)\n",
        "\n",
        "# F1 score\n",
        "f1_score = round(f1_score(y_test, test_pred, pos_label=1), 1) * 100\n",
        "print(\"F1 Score: \", f1_score)\n",
        " \n",
        "# Confusion Matrix\n",
        "confusion_matrix = confusion_matrix(y_true=y_test, y_pred=test_pred)\n",
        "\n",
        "cm_plot = metrics.ConfusionMatrixDisplay(confusion_matrix=confusion_matrix)\n",
        "cm_plot.plot()\n",
        "\n",
        "plt.grid(False)\n",
        "plt.show()"
      ]
    },
    {
      "cell_type": "markdown",
      "metadata": {
        "id": "bW46TwTTZWLL"
      },
      "source": [
        "Well done! You should be able to see the performance is equally good or even better after applying `early stopping`.\n",
        "\n",
        "\n",
        "Please think about your accomplishment and do some error analysis, then finish the report.\n"
      ]
    },
    {
      "cell_type": "markdown",
      "source": [
        "## Experiments"
      ],
      "metadata": {
        "id": "kdOpB58l6xqw"
      }
    },
    {
      "cell_type": "code",
      "source": [
        "# Logistic Regression\n",
        "import sklearn.linear_model as linear_model\n",
        "from sklearn import metrics\n",
        "from sklearn.metrics import confusion_matrix, classification_report\n",
        "lr = linear_model.LogisticRegression(C=1)\n",
        "lr.fit(X_train, y_train)\n",
        "y_pred1 = lr.predict(X_test)\n",
        "confusion_matrix = confusion_matrix(y_true=y_test, y_pred=y_pred1)\n",
        "print(classification_report(y_test, y_pred1))\n",
        "cm_plot = metrics.ConfusionMatrixDisplay(confusion_matrix=confusion_matrix)\n",
        "cm_plot.plot()\n",
        "plt.grid(False)\n",
        "plt.show()"
      ],
      "metadata": {
        "colab": {
          "base_uri": "https://localhost:8080/",
          "height": 446
        },
        "id": "sVmwSQBG7GsL",
        "outputId": "cec160c1-f5b8-4584-b434-aff79567f31e"
      },
      "execution_count": null,
      "outputs": [
        {
          "output_type": "stream",
          "name": "stdout",
          "text": [
            "              precision    recall  f1-score   support\n",
            "\n",
            "           0       0.79      0.95      0.86       600\n",
            "           1       0.89      0.62      0.73       400\n",
            "\n",
            "    accuracy                           0.82      1000\n",
            "   macro avg       0.84      0.78      0.80      1000\n",
            "weighted avg       0.83      0.82      0.81      1000\n",
            "\n"
          ]
        },
        {
          "output_type": "display_data",
          "data": {
            "text/plain": [
              "<Figure size 432x288 with 2 Axes>"
            ],
            "image/png": "[encoded data removed]"
          },
          "metadata": {}
        }
      ]
    },
    {
      "cell_type": "code",
      "source": [
        "from sklearn.metrics import roc_curve, auc\n",
        "fpr, tpr, thresholds = roc_curve(y_test, y_pred1)\n",
        "roc_auc = auc(fpr, tpr)\n",
        "plt.figure()\n",
        "plt.plot(fpr, tpr, color='darkorange', lw=1, label='ROC curve (area = %0.2f)' % roc_auc)\n",
        "plt.xlim([0.0, 1.0])\n",
        "plt.ylim([0.0, 1.05])\n",
        "plt.xlabel('False Positive Rate')\n",
        "plt.ylabel('True Positive Rate')\n",
        "plt.title('ROC CURVE')\n",
        "plt.legend(loc=\"lower right\")\n",
        "plt.show()"
      ],
      "metadata": {
        "colab": {
          "base_uri": "https://localhost:8080/",
          "height": 301
        },
        "id": "DUv4uuCI7KwC",
        "outputId": "4ae57b7f-0b52-40ff-dbd0-59a6a1bb5ba9"
      },
      "execution_count": null,
      "outputs": [
        {
          "output_type": "display_data",
          "data": {
            "text/plain": [
              "<Figure size 432x288 with 1 Axes>"
            ],
            "image/png": "[encoded data removed]"
          },
          "metadata": {}
        }
      ]
    },
    {
      "cell_type": "code",
      "source": [
        "#Bernoulli naive Bayes\n",
        "from sklearn.naive_bayes import BernoulliNB\n",
        "from sklearn.metrics import confusion_matrix\n",
        "import seaborn as sns\n",
        "BNBmodel = BernoulliNB()\n",
        "BNBmodel.fit(X_train, y_train)\n",
        "y_pred2 = BNBmodel.predict(X_test)\n",
        "confusion_matrix = confusion_matrix(y_true=y_test, y_pred=y_pred2)\n",
        "print(classification_report(y_test, y_pred2))\n",
        "cm_plot = metrics.ConfusionMatrixDisplay(confusion_matrix=confusion_matrix)\n",
        "cm_plot.plot()\n",
        "plt.grid(False)\n",
        "plt.show()"
      ],
      "metadata": {
        "colab": {
          "base_uri": "https://localhost:8080/",
          "height": 446
        },
        "id": "Es2KfcrP7p8w",
        "outputId": "379ac3f6-8abb-41ed-9eda-e1e2d4832332"
      },
      "execution_count": null,
      "outputs": [
        {
          "output_type": "stream",
          "name": "stdout",
          "text": [
            "              precision    recall  f1-score   support\n",
            "\n",
            "           0       0.80      0.92      0.86       600\n",
            "           1       0.85      0.65      0.73       400\n",
            "\n",
            "    accuracy                           0.81      1000\n",
            "   macro avg       0.82      0.79      0.80      1000\n",
            "weighted avg       0.82      0.81      0.81      1000\n",
            "\n"
          ]
        },
        {
          "output_type": "display_data",
          "data": {
            "text/plain": [
              "<Figure size 432x288 with 2 Axes>"
            ],
            "image/png": "[encoded data removed]"
          },
          "metadata": {}
        }
      ]
    },
    {
      "cell_type": "code",
      "source": [
        "fpr, tpr, thresholds = roc_curve(y_test, y_pred2)\n",
        "roc_auc = auc(fpr, tpr)\n",
        "plt.figure()\n",
        "plt.plot(fpr, tpr, color='darkorange', lw=1, label='ROC curve (area = %0.2f)' % roc_auc)\n",
        "plt.xlim([0.0, 1.0])\n",
        "plt.ylim([0.0, 1.05])\n",
        "plt.xlabel('False Positive Rate')\n",
        "plt.ylabel('True Positive Rate')\n",
        "plt.title('ROC CURVE')\n",
        "plt.legend(loc=\"lower right\")\n",
        "plt.show()"
      ],
      "metadata": {
        "colab": {
          "base_uri": "https://localhost:8080/",
          "height": 301
        },
        "id": "9ve4g0-H770e",
        "outputId": "b58b8ca7-390f-4809-fdd4-833e34dea5c9"
      },
      "execution_count": null,
      "outputs": [
        {
          "output_type": "display_data",
          "data": {
            "text/plain": [
              "<Figure size 432x288 with 1 Axes>"
            ],
            "image/png": "[encoded data removed]"
          },
          "metadata": {}
        }
      ]
    },
    {
      "cell_type": "code",
      "source": [
        "#linear SVC\n",
        "from sklearn.svm import LinearSVC\n",
        "from sklearn.metrics import confusion_matrix\n",
        "SVCmodel = LinearSVC()\n",
        "SVCmodel.fit(X_train, y_train)\n",
        "y_pred3 = SVCmodel.predict(X_test)\n",
        "confusion_matrix = confusion_matrix(y_true=y_test, y_pred=y_pred3)\n",
        "print(classification_report(y_test, y_pred3))\n",
        "cm_plot = metrics.ConfusionMatrixDisplay(confusion_matrix=confusion_matrix)\n",
        "cm_plot.plot()\n",
        "plt.grid(False)\n",
        "plt.show()\n"
      ],
      "metadata": {
        "colab": {
          "base_uri": "https://localhost:8080/",
          "height": 446
        },
        "id": "iCnsWRob7-Z3",
        "outputId": "ee16a6eb-2f25-4a89-cc24-f47268c52c74"
      },
      "execution_count": null,
      "outputs": [
        {
          "output_type": "stream",
          "name": "stdout",
          "text": [
            "              precision    recall  f1-score   support\n",
            "\n",
            "           0       0.83      0.90      0.86       600\n",
            "           1       0.82      0.72      0.77       400\n",
            "\n",
            "    accuracy                           0.83      1000\n",
            "   macro avg       0.83      0.81      0.81      1000\n",
            "weighted avg       0.83      0.83      0.82      1000\n",
            "\n"
          ]
        },
        {
          "output_type": "display_data",
          "data": {
            "text/plain": [
              "<Figure size 432x288 with 2 Axes>"
            ],
            "image/png": "[encoded data removed]"
          },
          "metadata": {}
        }
      ]
    },
    {
      "cell_type": "code",
      "source": [
        "fpr, tpr, thresholds = roc_curve(y_test, y_pred3)\n",
        "roc_auc = auc(fpr, tpr)\n",
        "plt.figure()\n",
        "plt.plot(fpr, tpr, color='darkorange', lw=1, label='ROC curve (area = %0.2f)' % roc_auc)\n",
        "plt.xlim([0.0, 1.0])\n",
        "plt.ylim([0.0, 1.05])\n",
        "plt.xlabel('False Positive Rate')\n",
        "plt.ylabel('True Positive Rate')\n",
        "plt.title('ROC CURVE')\n",
        "plt.legend(loc=\"lower right\")\n",
        "plt.show()"
      ],
      "metadata": {
        "colab": {
          "base_uri": "https://localhost:8080/",
          "height": 301
        },
        "id": "qfuOhI9x8JbL",
        "outputId": "b2f0abdc-dae1-4d00-927b-306439c05253"
      },
      "execution_count": null,
      "outputs": [
        {
          "output_type": "display_data",
          "data": {
            "text/plain": [
              "<Figure size 432x288 with 1 Axes>"
            ],
            "image/png": "[encoded data removed]"
          },
          "metadata": {}
        }
      ]
    }
  ],
  "metadata": {
    "accelerator": "GPU",
    "colab": {
      "collapsed_sections": [],
      "provenance": []
    },
    "gpuClass": "standard",
    "kernelspec": {
      "display_name": "Python 3",
      "name": "python3"
    },
    "language_info": {
      "name": "python"
    }
  },
  "nbformat": 4,
  "nbformat_minor": 0
}