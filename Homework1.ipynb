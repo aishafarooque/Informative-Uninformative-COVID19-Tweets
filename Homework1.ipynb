{
  "cells": [
    {
      "cell_type": "markdown",
      "metadata": {
        "id": "58P7eNIbPmYR"
      },
      "source": [
        "# COSC6336 Homework 1"
      ]
    },
    {
      "cell_type": "markdown",
      "metadata": {
        "id": "neBc6KhlPfw1"
      },
      "source": [
        "## Introduction\n",
        "In this project, you will work on the text classification task of automatically identifying informative/uninformative tweets about COVID-19."
      ]
    },
    {
      "cell_type": "markdown",
      "metadata": {
        "id": "PR9pP0LXP-vU"
      },
      "source": [
        "First, download the data by run the command in the cell below. The dataset is downloaded to the Colab file storage. If you prefer to work on your machines, you can download the code and dataset to your machine."
      ]
    },
    {
      "cell_type": "code",
      "execution_count": 1,
      "metadata": {
        "colab": {
          "base_uri": "https://localhost:8080/"
        },
        "id": "gIf6hcrrMQsC",
        "outputId": "4731f497-2144-4969-82e2-a06f26fecc6c"
      },
      "outputs": [
        {
          "output_type": "stream",
          "name": "stdout",
          "text": [
            "Downloading...\n",
            "From: https://drive.google.com/uc?id=1hCdscwOk5O9j7KqMCYk2yIYkeyKbXRDQ\n",
            "To: /content/infomative_tweet.tsv\n",
            "\r  0% 0.00/1.30M [00:00<?, ?B/s]\r100% 1.30M/1.30M [00:00<00:00, 131MB/s]\n"
          ]
        }
      ],
      "source": [
        "!gdown 1hCdscwOk5O9j7KqMCYk2yIYkeyKbXRDQ"
      ]
    },
    {
      "cell_type": "code",
      "execution_count": 2,
      "metadata": {
        "id": "PmGzZExJoveO"
      },
      "outputs": [],
      "source": [
        "import pandas as pd\n",
        "import numpy as np"
      ]
    },
    {
      "cell_type": "markdown",
      "metadata": {
        "id": "OSAMhPprQHRw"
      },
      "source": [
        "Read the data using `Pandas`:"
      ]
    },
    {
      "cell_type": "code",
      "execution_count": 3,
      "metadata": {
        "id": "NVXnvTRrMg_S"
      },
      "outputs": [],
      "source": [
        "df = pd.read_csv(\"infomative_tweet.tsv\", sep='\\t')"
      ]
    },
    {
      "cell_type": "markdown",
      "metadata": {
        "id": "eamhNIXyQLkt"
      },
      "source": [
        "Preview the dataframe:"
      ]
    },
    {
      "cell_type": "code",
      "execution_count": 4,
      "metadata": {
        "colab": {
          "base_uri": "https://localhost:8080/",
          "height": 424
        },
        "id": "XVjkz5mkR8Vf",
        "outputId": "42fa3b53-2939-4aa2-9bbc-df1f28cbe7b1"
      },
      "outputs": [
        {
          "output_type": "execute_result",
          "data": {
            "text/plain": [
              "                       Id                                               Text  \\\n",
              "0     1244051803903328258  This ignores: 1. 5000 Italian Rugby Fans allow...   \n",
              "1     1242016817863892992  1/2 Some good news and some bad news , new rec...   \n",
              "2     1242155318475468801  Ace reporting by @USER Title IX sexual-assault...   \n",
              "3     1245746251582377984  Canada's Chief Public Health Officer, Dr. Ther...   \n",
              "4     1239187176954478593  Very sad to hear a member of staff at Fortisme...   \n",
              "...                   ...                                                ...   \n",
              "4995  1244481231779233792  #BreakingNews: A 45 year old healthcare worker...   \n",
              "4996  1245688974506688518  ScHARRSheffield: RT ShefUniNews: \"The main rea...   \n",
              "4997  1241077936062705664  Researchers developed imaging technology calle...   \n",
              "4998  1242855817449267205  After spending 4 hours pouring over Britain's ...   \n",
              "4999  1251365485595123713  All primary contacts (though asymptomatic) wer...   \n",
              "\n",
              "              Label  Class  \n",
              "0     UNINFORMATIVE      0  \n",
              "1       INFORMATIVE      1  \n",
              "2     UNINFORMATIVE      0  \n",
              "3       INFORMATIVE      1  \n",
              "4       INFORMATIVE      1  \n",
              "...             ...    ...  \n",
              "4995    INFORMATIVE      1  \n",
              "4996  UNINFORMATIVE      0  \n",
              "4997  UNINFORMATIVE      0  \n",
              "4998  UNINFORMATIVE      0  \n",
              "4999    INFORMATIVE      1  \n",
              "\n",
              "[5000 rows x 4 columns]"
            ],
            "text/html": [
              "\n",
              "  <div id=\"df-9e862c36-55ae-4177-9415-9bced01db644\">\n",
              "    <div class=\"colab-df-container\">\n",
              "      <div>\n",
              "<style scoped>\n",
              "    .dataframe tbody tr th:only-of-type {\n",
              "        vertical-align: middle;\n",
              "    }\n",
              "\n",
              "    .dataframe tbody tr th {\n",
              "        vertical-align: top;\n",
              "    }\n",
              "\n",
              "    .dataframe thead th {\n",
              "        text-align: right;\n",
              "    }\n",
              "</style>\n",
              "<table border=\"1\" class=\"dataframe\">\n",
              "  <thead>\n",
              "    <tr style=\"text-align: right;\">\n",
              "      <th></th>\n",
              "      <th>Id</th>\n",
              "      <th>Text</th>\n",
              "      <th>Label</th>\n",
              "      <th>Class</th>\n",
              "    </tr>\n",
              "  </thead>\n",
              "  <tbody>\n",
              "    <tr>\n",
              "      <th>0</th>\n",
              "      <td>1244051803903328258</td>\n",
              "      <td>This ignores: 1. 5000 Italian Rugby Fans allow...</td>\n",
              "      <td>UNINFORMATIVE</td>\n",
              "      <td>0</td>\n",
              "    </tr>\n",
              "    <tr>\n",
              "      <th>1</th>\n",
              "      <td>1242016817863892992</td>\n",
              "      <td>1/2 Some good news and some bad news , new rec...</td>\n",
              "      <td>INFORMATIVE</td>\n",
              "      <td>1</td>\n",
              "    </tr>\n",
              "    <tr>\n",
              "      <th>2</th>\n",
              "      <td>1242155318475468801</td>\n",
              "      <td>Ace reporting by @USER Title IX sexual-assault...</td>\n",
              "      <td>UNINFORMATIVE</td>\n",
              "      <td>0</td>\n",
              "    </tr>\n",
              "    <tr>\n",
              "      <th>3</th>\n",
              "      <td>1245746251582377984</td>\n",
              "      <td>Canada's Chief Public Health Officer, Dr. Ther...</td>\n",
              "      <td>INFORMATIVE</td>\n",
              "      <td>1</td>\n",
              "    </tr>\n",
              "    <tr>\n",
              "      <th>4</th>\n",
              "      <td>1239187176954478593</td>\n",
              "      <td>Very sad to hear a member of staff at Fortisme...</td>\n",
              "      <td>INFORMATIVE</td>\n",
              "      <td>1</td>\n",
              "    </tr>\n",
              "    <tr>\n",
              "      <th>...</th>\n",
              "      <td>...</td>\n",
              "      <td>...</td>\n",
              "      <td>...</td>\n",
              "      <td>...</td>\n",
              "    </tr>\n",
              "    <tr>\n",
              "      <th>4995</th>\n",
              "      <td>1244481231779233792</td>\n",
              "      <td>#BreakingNews: A 45 year old healthcare worker...</td>\n",
              "      <td>INFORMATIVE</td>\n",
              "      <td>1</td>\n",
              "    </tr>\n",
              "    <tr>\n",
              "      <th>4996</th>\n",
              "      <td>1245688974506688518</td>\n",
              "      <td>ScHARRSheffield: RT ShefUniNews: \"The main rea...</td>\n",
              "      <td>UNINFORMATIVE</td>\n",
              "      <td>0</td>\n",
              "    </tr>\n",
              "    <tr>\n",
              "      <th>4997</th>\n",
              "      <td>1241077936062705664</td>\n",
              "      <td>Researchers developed imaging technology calle...</td>\n",
              "      <td>UNINFORMATIVE</td>\n",
              "      <td>0</td>\n",
              "    </tr>\n",
              "    <tr>\n",
              "      <th>4998</th>\n",
              "      <td>1242855817449267205</td>\n",
              "      <td>After spending 4 hours pouring over Britain's ...</td>\n",
              "      <td>UNINFORMATIVE</td>\n",
              "      <td>0</td>\n",
              "    </tr>\n",
              "    <tr>\n",
              "      <th>4999</th>\n",
              "      <td>1251365485595123713</td>\n",
              "      <td>All primary contacts (though asymptomatic) wer...</td>\n",
              "      <td>INFORMATIVE</td>\n",
              "      <td>1</td>\n",
              "    </tr>\n",
              "  </tbody>\n",
              "</table>\n",
              "<p>5000 rows × 4 columns</p>\n",
              "</div>\n",
              "      <button class=\"colab-df-convert\" onclick=\"convertToInteractive('df-9e862c36-55ae-4177-9415-9bced01db644')\"\n",
              "              title=\"Convert this dataframe to an interactive table.\"\n",
              "              style=\"display:none;\">\n",
              "        \n",
              "  <svg xmlns=\"http://www.w3.org/2000/svg\" height=\"24px\"viewBox=\"0 0 24 24\"\n",
              "       width=\"24px\">\n",
              "    <path d=\"M0 0h24v24H0V0z\" fill=\"none\"/>\n",
              "    <path d=\"M18.56 5.44l.94 2.06.94-2.06 2.06-.94-2.06-.94-.94-2.06-.94 2.06-2.06.94zm-11 1L8.5 8.5l.94-2.06 2.06-.94-2.06-.94L8.5 2.5l-.94 2.06-2.06.94zm10 10l.94 2.06.94-2.06 2.06-.94-2.06-.94-.94-2.06-.94 2.06-2.06.94z\"/><path d=\"M17.41 7.96l-1.37-1.37c-.4-.4-.92-.59-1.43-.59-.52 0-1.04.2-1.43.59L10.3 9.45l-7.72 7.72c-.78.78-.78 2.05 0 2.83L4 21.41c.39.39.9.59 1.41.59.51 0 1.02-.2 1.41-.59l7.78-7.78 2.81-2.81c.8-.78.8-2.07 0-2.86zM5.41 20L4 18.59l7.72-7.72 1.47 1.35L5.41 20z\"/>\n",
              "  </svg>\n",
              "      </button>\n",
              "      \n",
              "  <style>\n",
              "    .colab-df-container {\n",
              "      display:flex;\n",
              "      flex-wrap:wrap;\n",
              "      gap: 12px;\n",
              "    }\n",
              "\n",
              "    .colab-df-convert {\n",
              "      background-color: #E8F0FE;\n",
              "      border: none;\n",
              "      border-radius: 50%;\n",
              "      cursor: pointer;\n",
              "      display: none;\n",
              "      fill: #1967D2;\n",
              "      height: 32px;\n",
              "      padding: 0 0 0 0;\n",
              "      width: 32px;\n",
              "    }\n",
              "\n",
              "    .colab-df-convert:hover {\n",
              "      background-color: #E2EBFA;\n",
              "      box-shadow: 0px 1px 2px rgba(60, 64, 67, 0.3), 0px 1px 3px 1px rgba(60, 64, 67, 0.15);\n",
              "      fill: #174EA6;\n",
              "    }\n",
              "\n",
              "    [theme=dark] .colab-df-convert {\n",
              "      background-color: #3B4455;\n",
              "      fill: #D2E3FC;\n",
              "    }\n",
              "\n",
              "    [theme=dark] .colab-df-convert:hover {\n",
              "      background-color: #434B5C;\n",
              "      box-shadow: 0px 1px 3px 1px rgba(0, 0, 0, 0.15);\n",
              "      filter: drop-shadow(0px 1px 2px rgba(0, 0, 0, 0.3));\n",
              "      fill: #FFFFFF;\n",
              "    }\n",
              "  </style>\n",
              "\n",
              "      <script>\n",
              "        const buttonEl =\n",
              "          document.querySelector('#df-9e862c36-55ae-4177-9415-9bced01db644 button.colab-df-convert');\n",
              "        buttonEl.style.display =\n",
              "          google.colab.kernel.accessAllowed ? 'block' : 'none';\n",
              "\n",
              "        async function convertToInteractive(key) {\n",
              "          const element = document.querySelector('#df-9e862c36-55ae-4177-9415-9bced01db644');\n",
              "          const dataTable =\n",
              "            await google.colab.kernel.invokeFunction('convertToInteractive',\n",
              "                                                     [key], {});\n",
              "          if (!dataTable) return;\n",
              "\n",
              "          const docLinkHtml = 'Like what you see? Visit the ' +\n",
              "            '<a target=\"_blank\" href=https://colab.research.google.com/notebooks/data_table.ipynb>data table notebook</a>'\n",
              "            + ' to learn more about interactive tables.';\n",
              "          element.innerHTML = '';\n",
              "          dataTable['output_type'] = 'display_data';\n",
              "          await google.colab.output.renderOutput(dataTable, element);\n",
              "          const docLink = document.createElement('div');\n",
              "          docLink.innerHTML = docLinkHtml;\n",
              "          element.appendChild(docLink);\n",
              "        }\n",
              "      </script>\n",
              "    </div>\n",
              "  </div>\n",
              "  "
            ]
          },
          "metadata": {},
          "execution_count": 4
        }
      ],
      "source": [
        "df"
      ]
    },
    {
      "cell_type": "markdown",
      "metadata": {
        "id": "FNID0aW1v1ql"
      },
      "source": [
        "## Data fact study"
      ]
    },
    {
      "cell_type": "markdown",
      "metadata": {
        "id": "lk5r-xBcQOrv"
      },
      "source": [
        "Now, it's your turn. In the following code blocks:\n",
        "\n",
        "\n",
        "1.   Investigate the text length (word count) distributions of the dataset. You should create a histogram or a box plot.\n",
        "\n",
        "2.   Create a barplot for label distribution.\n",
        "\n",
        "You can use `matplotlib` or `seaborn` or any other tools you like.\n",
        "\n"
      ]
    },
    {
      "cell_type": "markdown",
      "metadata": {
        "id": "-qaWIJynRI5m"
      },
      "source": [
        "Text length (total word count) distribution: \n",
        "\n",
        "Hint: tools like `NLTK` might be helpful."
      ]
    },
    {
      "cell_type": "code",
      "execution_count": 5,
      "metadata": {
        "colab": {
          "base_uri": "https://localhost:8080/",
          "height": 503
        },
        "id": "2D6gY4uwQiwv",
        "outputId": "077a3baf-95cc-4501-e5ee-7872d5b50eb8"
      },
      "outputs": [
        {
          "output_type": "stream",
          "name": "stdout",
          "text": [
            "Example of a tweet:  1/2 Some good news and some bad news , new record in testing yesterday 45k test performed yesterday. Washington State recovery rates are increasing , 94% of test are negative , above the current national avg of 89% . #COVID19 #COVID19US #coronavirus #CoronaVirusUpdate HTTPURL\n",
            "We extract words from that tweet:  ['1/2', 'Some', 'good', 'news', 'and', 'some', 'bad', 'news', ',', 'new', 'record', 'in', 'testing', 'yesterday', '45k', 'test', 'performed', 'yesterday.', 'Washington', 'State', 'recovery', 'rates', 'are', 'increasing', ',', '94%', 'of', 'test', 'are', 'negative', ',', 'above', 'the', 'current', 'national', 'avg', 'of', '89%', '.', '#COVID19', '#COVID19US', '#coronavirus', '#CoronaVirusUpdate', 'HTTPURL']\n",
            "And count the number of words from that tweet to generate the graph, for example:  44 \n",
            "\n",
            "\n"
          ]
        },
        {
          "output_type": "execute_result",
          "data": {
            "text/plain": [
              "Text(0, 0.5, 'Number of Tweets')"
            ]
          },
          "metadata": {},
          "execution_count": 5
        },
        {
          "output_type": "display_data",
          "data": {
            "text/plain": [
              "<Figure size 2880x720 with 1 Axes>"
            ],
            "image/png": "[encoded data removed]"
          },
          "metadata": {
            "needs_background": "light"
          }
        }
      ],
      "source": [
        "### your code for text length distributions plot\n",
        "import matplotlib.pyplot as plt \n",
        "\n",
        "tweetsByWordCount = {}\n",
        "\n",
        "for tweet in df['Text']:\n",
        "  words = tweet.split(' ')\n",
        "\n",
        "  ### Counting the number of words in a tweet\n",
        "  numberOfWords = len(words)\n",
        "  tweetsByWordCount[numberOfWords] = tweetsByWordCount.get(numberOfWords, 0) + 1\n",
        "\n",
        "# Adding some logs here to explain the rational behind the loop - Counting the number of words in a tweet\n",
        "sampleIndex = 1\n",
        "print (\"Example of a tweet: \", df['Text'][sampleIndex])\n",
        "print (\"We extract words from that tweet: \", df['Text'][sampleIndex].split(' '))\n",
        "print (\"And count the number of words from that tweet to generate the graph, for example: \", \n",
        "       len(df['Text'][sampleIndex].split(' ')), \"\\n\\n\")\n",
        "\n",
        "textWordCount, wordOccurance = zip(*tweetsByWordCount.items())  # wordOccurance could be called \"numTweetsThatLong\" or sth if using the alternative counting approach...\n",
        "\n",
        "f = plt.figure()\n",
        "f.set_figheight(10)\n",
        "f.set_figwidth(40)\n",
        "\n",
        "key_max = max(tweetsByWordCount.values(), key=(lambda k: tweetsByWordCount.get(k, 0)))\n",
        "key_min = min(tweetsByWordCount.values(), key=(lambda k: tweetsByWordCount.get(k, 0)))\n",
        "\n",
        "plt.bar(textWordCount, wordOccurance)\n",
        "plt.xlim([key_max, 100])\n",
        "plt.xlabel('Text Word Count')\n",
        "plt.ylabel('Number of Tweets')"
      ]
    },
    {
      "cell_type": "markdown",
      "metadata": {
        "id": "0duq13lcQjlN"
      },
      "source": [
        "Label distribution:"
      ]
    },
    {
      "cell_type": "code",
      "execution_count": 6,
      "metadata": {
        "colab": {
          "base_uri": "https://localhost:8080/",
          "height": 268
        },
        "id": "M_yE0QF4RHuD",
        "outputId": "d73d24cd-bcdc-447e-9f7f-89c0b0fb82d7"
      },
      "outputs": [
        {
          "output_type": "display_data",
          "data": {
            "text/plain": [
              "<Figure size 432x288 with 1 Axes>"
            ],
            "image/png": "[encoded data removed]"
          },
          "metadata": {}
        }
      ],
      "source": [
        "import seaborn as sns\n",
        "sns.set_theme(style=\"whitegrid\")\n",
        "tips = sns.load_dataset(\"tips\")\n",
        "ax = sns.barplot(x=df.Label.value_counts().index, y=df.Label.value_counts(), data=df)"
      ]
    },
    {
      "cell_type": "markdown",
      "metadata": {
        "id": "CDRMiSWkv9a5"
      },
      "source": [
        "## Feature extraction"
      ]
    },
    {
      "cell_type": "markdown",
      "metadata": {
        "id": "QrW3WnuHUDBb"
      },
      "source": [
        "Now we can prepare feature extraction on text. \n",
        "\n",
        "\n",
        "1.   Convert the text data into bag-of-word vectors.\n",
        "2.   Convert the bag-of-word vectors into TF-IDF representations.\n",
        "\n",
        "This doc could be helpful: https://scikit-learn.org/stable/tutorial/text_analytics/working_with_text_data.html#working-with-text-data\n",
        "\n"
      ]
    },
    {
      "cell_type": "code",
      "execution_count": 7,
      "metadata": {
        "id": "2vT3X2Du1HrE"
      },
      "outputs": [],
      "source": [
        "import math\n",
        "### Build a vocabulary with an integer index mapped to each unique word\n",
        "vocab = {}\n",
        "for tweet in df['Text']:\n",
        "  for word in tweet.split():\n",
        "    if word not in vocab:\n",
        "      vocab[word] = len(vocab)\n",
        "\n",
        "### Convert labels to numeric indexes\n",
        "labels = {'UNINFORMATIVE': 0, 'INFORMATIVE': 1}\n",
        "labelsByTweet = pd.Series([labels[label] for label in df['Label']])\n",
        "\n",
        "### Convert to BoW vectors\n",
        "BoWsByTweet = []\n",
        "\n",
        "for tweet in df['Text']:\n",
        "  currentTweetBoW = {}\n",
        "  for word in tweet.split():\n",
        "    currentTweetBoW[vocab[word]] = currentTweetBoW.get(vocab[word], 0) + 1\n",
        "  BoWsByTweet += [currentTweetBoW]\n",
        "\n",
        "### Convert to TF-IDF representations\n",
        "numTweets = len(BoWsByTweet)\n",
        "\n",
        "# Pre-count number of tweets that contain a word (DF) for each word in any tweet (for performance)\n",
        "tweetsWithEachWord = {}\n",
        "\n",
        "for BoW in BoWsByTweet:\n",
        "  for vocabIdx in BoW.keys():\n",
        "    tweetsWithEachWord[vocabIdx] = tweetsWithEachWord.get(vocabIdx, 0) + 1\n",
        "\n",
        "# Calculate IDF for each word (log numTweets / DF)\n",
        "idf = {vocabIdx: math.log2(numTweets / tweetsWithEachWord[vocabIdx])        # Not sure what base of logarithm we need...\n",
        "        for vocabIdx in tweetsWithEachWord.keys()}\n",
        "\n",
        "# Calculate TF for each word in each BoW\n",
        "tfByTweet = []\n",
        "for BoW in BoWsByTweet:\n",
        "  numWordsInTweet = sum(BoW.values())\n",
        "  currentTf = {vocabIdx: BoW[vocabIdx] / numWordsInTweet \n",
        "                for vocabIdx in BoW.keys()}\n",
        "  tfByTweet += [currentTf]\n",
        "\n",
        "# Multiply the TFs in each BoW by the IDFs for the respective words to get TF-IDFs\n",
        "tfidfByTweet = [{vocabIdx: tf[vocabIdx] * idf[vocabIdx]\n",
        "                    for vocabIdx in tf.keys()}\n",
        "                  for tf in tfByTweet]\n",
        "        \n",
        "# Convert dictionary to sparse matrix\n",
        "from scipy.sparse import *\n",
        "mat_tfidf = dok_matrix((len(tfidfByTweet), len(vocab)))\n",
        "for i in range(len(tfidfByTweet)):\n",
        "  for vocabIdx in tfidfByTweet[i].keys():\n",
        "    mat_tfidf[i, vocabIdx] = tfidfByTweet[i][vocabIdx]\n",
        "\n",
        "### Done! (?)"
      ]
    },
    {
      "cell_type": "markdown",
      "metadata": {
        "id": "v851SL1Iv_MV"
      },
      "source": [
        "## Data split"
      ]
    },
    {
      "cell_type": "markdown",
      "metadata": {
        "id": "1UtKCORIUxdz"
      },
      "source": [
        "Next, we will split the extracted feature vectors into train/dev/test sets.\n",
        "\n",
        "\n",
        "*   Set the proportion of train/dev/test = 7:1:2\n",
        "*   Different sets should keep the same proportions of informative/uninformative instances as observed in the original dataset.\n",
        "\n",
        "\n",
        "\n",
        "\n",
        "You can implement the split yourself or use this function: https://scikit-learn.org/stable/modules/generated/sklearn.model_selection.train_test_split.html\n",
        "\n",
        "Hint: check out the parameter `stratify` in `train_test_split`."
      ]
    },
    {
      "cell_type": "code",
      "execution_count": 8,
      "metadata": {
        "id": "TWgkxD9bbw3O"
      },
      "outputs": [],
      "source": [
        "from sklearn.model_selection import train_test_split\n",
        "y = labelsByTweet #Target Variable\n",
        "X = mat_tfidf #Independent Variable\n",
        "X_train, X_rem, y_train, y_rem = train_test_split(X, y, stratify=y, train_size=3500)  \n",
        "X_test, X_dev, y_test, y_dev = train_test_split(X_rem, y_rem, stratify=y_rem, test_size=500) "
      ]
    },
    {
      "cell_type": "code",
      "source": [
        "print(X_train.shape), print(y_train.shape)\n",
        "print(X_dev.shape), print(y_dev.shape)\n",
        "print(X_test.shape), print(y_test.shape)"
      ],
      "metadata": {
        "id": "jEf5pUiHuiVQ",
        "colab": {
          "base_uri": "https://localhost:8080/"
        },
        "outputId": "dbc99c79-52e9-40d7-bf14-28831930dd0b"
      },
      "execution_count": 9,
      "outputs": [
        {
          "output_type": "stream",
          "name": "stdout",
          "text": [
            "(3500, 32817)\n",
            "(3500,)\n",
            "(500, 32817)\n",
            "(500,)\n",
            "(1000, 32817)\n",
            "(1000,)\n"
          ]
        },
        {
          "output_type": "execute_result",
          "data": {
            "text/plain": [
              "(None, None)"
            ]
          },
          "metadata": {},
          "execution_count": 9
        }
      ]
    },
    {
      "cell_type": "markdown",
      "metadata": {
        "id": "EFxQbzvEQ4tr"
      },
      "source": [
        "You should split the data as following example parts.\n",
        "*   X_train\n",
        "*   X_dev \n",
        "*   X_test\n",
        "*   y_train\n",
        "*   y_dev\n",
        "*   y_test\n",
        "\n",
        "Remember to check proportion."
      ]
    },
    {
      "cell_type": "markdown",
      "metadata": {
        "id": "-NAsl0jHwDXp"
      },
      "source": [
        "## Train and evaluate using sklearn"
      ]
    },
    {
      "cell_type": "markdown",
      "metadata": {
        "id": "YFsre9k4VqZ7"
      },
      "source": [
        "Use a Logistic Regression model from Scikit-learn to do the training and evaluation on test."
      ]
    },
    {
      "cell_type": "code",
      "execution_count": 10,
      "metadata": {
        "id": "3Ma6X9VEdjAI",
        "colab": {
          "base_uri": "https://localhost:8080/"
        },
        "outputId": "a74bb37b-4f42-4c3d-a03b-935d5e5248b4"
      },
      "outputs": [
        {
          "output_type": "execute_result",
          "data": {
            "text/plain": [
              "LogisticRegression(C=1)"
            ]
          },
          "metadata": {},
          "execution_count": 10
        }
      ],
      "source": [
        "import sklearn.linear_model as linear_model\n",
        "\n",
        "lr = linear_model.LogisticRegression(C=1)\n",
        "lr.fit(X_train, y_train)"
      ]
    },
    {
      "cell_type": "markdown",
      "metadata": {
        "id": "4GnPxA-FV0JR"
      },
      "source": [
        "Show the evaluation result with accuracy, F1 scores, and confusion matrix. \n",
        "\n",
        "Think about which F1 score should we use and why."
      ]
    },
    {
      "cell_type": "code",
      "execution_count": 11,
      "metadata": {
        "id": "R0rtIRxA3a0W",
        "colab": {
          "base_uri": "https://localhost:8080/",
          "height": 320
        },
        "outputId": "bf3304c3-d1c6-4164-d7f2-935fbd8c7401"
      },
      "outputs": [
        {
          "output_type": "stream",
          "name": "stdout",
          "text": [
            "Accuracy:  83.0\n",
            "F1 Score:  80.0\n"
          ]
        },
        {
          "output_type": "display_data",
          "data": {
            "text/plain": [
              "<Figure size 432x288 with 2 Axes>"
            ],
            "image/png": "[encoded data removed]"
          },
          "metadata": {}
        }
      ],
      "source": [
        "from sklearn import metrics\n",
        "from sklearn.metrics import accuracy_score, f1_score\n",
        "from sklearn.metrics import confusion_matrix\n",
        "\n",
        "y_pred = lr.predict(X_test)\n",
        "\n",
        "# Accuracy\n",
        "score = accuracy_score(y_test, y_pred) * 100\n",
        "print (\"Accuracy: \", score)\n",
        "\n",
        "# F1 score\n",
        "f1_score = round(f1_score(y_test, y_pred, pos_label=1), 1) * 100\n",
        "print(\"F1 Score: \", f1_score)\n",
        " \n",
        "# Confusion Matrix\n",
        "confusion_matrix = confusion_matrix(y_true=y_test, y_pred=y_pred)\n",
        "\n",
        "cm_plot = metrics.ConfusionMatrixDisplay(confusion_matrix=confusion_matrix)\n",
        "cm_plot.plot()\n",
        "\n",
        "plt.grid(False)\n",
        "plt.show()\n"
      ]
    },
    {
      "cell_type": "markdown",
      "metadata": {
        "id": "obgLQ9xFWISc"
      },
      "source": [
        "Prepare data into PyTorch tensors. You don't need to worry about this at this moment.\n",
        "\n",
        "Let's say your train/dev/test features are named `X_train`, `X_dev`, `X_test`:"
      ]
    },
    {
      "cell_type": "markdown",
      "metadata": {
        "id": "ZXK3UUEQwU6H"
      },
      "source": [
        "## PyTorch implementation"
      ]
    },
    {
      "cell_type": "markdown",
      "metadata": {
        "id": "eTNDo6cxRh7x"
      },
      "source": [
        "Convert the feature vectors to numpy arrays. Say you have arrays `X_train`,`X_dev`,`X_test`. Change the variable names to yours if needed."
      ]
    },
    {
      "cell_type": "code",
      "execution_count": 12,
      "metadata": {
        "id": "u9P4Ab1L4IlN"
      },
      "outputs": [],
      "source": [
        "X_train_array = X_train.toarray().astype('float32')\n",
        "X_dev_array = X_dev.toarray().astype('float32')\n",
        "X_test_array = X_test.toarray().astype('float32')"
      ]
    },
    {
      "cell_type": "code",
      "execution_count": 13,
      "metadata": {
        "id": "MgEOjnxw5d1r"
      },
      "outputs": [],
      "source": [
        "import torch.nn as nn\n",
        "import torch.nn.functional as F"
      ]
    },
    {
      "cell_type": "markdown",
      "metadata": {
        "id": "dsWlCbRSWkZQ"
      },
      "source": [
        "Simply call the scikit-learn libraries is not exciting. In this step, we implement our own Logistic Regression model with Pytorch."
      ]
    },
    {
      "cell_type": "code",
      "execution_count": 14,
      "metadata": {
        "id": "4G8Zv9B5EVVT"
      },
      "outputs": [],
      "source": [
        "import torch\n",
        "\n",
        "class LRClassifier(torch.nn.Module):\n",
        "    def __init__(self, input_dim, output_dim):\n",
        "        super(LRClassifier, self).__init__()\n",
        "        self.linear = torch.nn.Linear(input_dim, output_dim)     \n",
        "    def forward(self, x):\n",
        "        outputs = torch.sigmoid(self.linear(x))\n",
        "        return outputs"
      ]
    },
    {
      "cell_type": "markdown",
      "metadata": {
        "id": "Tokx6cAhW7-v"
      },
      "source": [
        "Specify the input dimensions and output dimensions of our LR model:"
      ]
    },
    {
      "cell_type": "code",
      "execution_count": 15,
      "metadata": {
        "id": "Zw_iu3YnXDBY"
      },
      "outputs": [],
      "source": [
        "input_dim = len(vocab)     # Number of distinct words in the vocabulary observed over all tweets\n",
        "output_dim = len(labels)   # Number of classification classes = 2 = binary classifier"
      ]
    },
    {
      "cell_type": "markdown",
      "metadata": {
        "id": "gaHjEJ-EXFVB"
      },
      "source": [
        "Create instances of this model with specified input/output dimensions. No need to care about optimizer and loss function at this moment."
      ]
    },
    {
      "cell_type": "code",
      "execution_count": 16,
      "metadata": {
        "id": "Py33cC6fEpo3"
      },
      "outputs": [],
      "source": [
        "model = LRClassifier(input_dim, output_dim)"
      ]
    },
    {
      "cell_type": "code",
      "execution_count": 17,
      "metadata": {
        "id": "OJVuVkHlDCOX",
        "colab": {
          "base_uri": "https://localhost:8080/"
        },
        "outputId": "af9c4c87-91b5-4cae-de66-2246e509aad0"
      },
      "outputs": [
        {
          "output_type": "execute_result",
          "data": {
            "text/plain": [
              "LRClassifier(\n",
              "  (linear): Linear(in_features=32817, out_features=2, bias=True)\n",
              ")"
            ]
          },
          "metadata": {},
          "execution_count": 17
        }
      ],
      "source": [
        "model.to(\"cuda\") ### make the model use GPU to boost the training"
      ]
    },
    {
      "cell_type": "markdown",
      "metadata": {
        "id": "qaVELyYHYAQf"
      },
      "source": [
        "## Training"
      ]
    },
    {
      "cell_type": "markdown",
      "metadata": {
        "id": "YsHY8mdsX-lT"
      },
      "source": [
        "Our first training loop!\n",
        "\n",
        "Input text_tensor is in shape [input_dim]\n",
        "\n",
        "\n",
        "Label is in shape [1, output_dim]\n",
        "\n",
        "`convert_to_one_hot` function can change one label digit to the required shape. For example, label `0` to '[1, 0]', `1` to '[0, 1]'."
      ]
    },
    {
      "cell_type": "code",
      "execution_count": 18,
      "metadata": {
        "id": "Xi3u5241Ejem"
      },
      "outputs": [],
      "source": [
        "epochs = 1000\n",
        "learning_rate = 0.5"
      ]
    },
    {
      "cell_type": "code",
      "execution_count": 19,
      "metadata": {
        "id": "6zsV50F_5C64"
      },
      "outputs": [],
      "source": [
        "optimizer = torch.optim.SGD(model.parameters(), lr=learning_rate, momentum=0.9) ### no need to care about this optimizer at this moment\n",
        "loss_fn = nn.BCELoss() "
      ]
    },
    {
      "cell_type": "code",
      "execution_count": 20,
      "metadata": {
        "id": "zV7-zH0SVj-Q"
      },
      "outputs": [],
      "source": [
        "def convert_to_one_hot(label_tensor):\n",
        "    return F.one_hot(label_tensor, num_classes=2).float()"
      ]
    },
    {
      "cell_type": "code",
      "execution_count": 21,
      "metadata": {
        "id": "M1SB14W5H342",
        "colab": {
          "base_uri": "https://localhost:8080/"
        },
        "outputId": "76ea9ac3-3c2f-4d59-8858-f66472f37de4"
      },
      "outputs": [
        {
          "output_type": "execute_result",
          "data": {
            "text/plain": [
              "tensor([0., 1.])"
            ]
          },
          "metadata": {},
          "execution_count": 21
        }
      ],
      "source": [
        "convert_to_one_hot(torch.tensor(1)) ### example 1"
      ]
    },
    {
      "cell_type": "code",
      "execution_count": 22,
      "metadata": {
        "id": "Nqk2ax1tHtxm",
        "colab": {
          "base_uri": "https://localhost:8080/"
        },
        "outputId": "004250e1-167a-4cb6-b5ed-741ef0f0359b"
      },
      "outputs": [
        {
          "output_type": "execute_result",
          "data": {
            "text/plain": [
              "tensor([[0., 1.],\n",
              "        [1., 0.],\n",
              "        [0., 1.]])"
            ]
          },
          "metadata": {},
          "execution_count": 22
        }
      ],
      "source": [
        "convert_to_one_hot(torch.tensor([1,0,1])) ### example 2"
      ]
    },
    {
      "cell_type": "code",
      "execution_count": 23,
      "metadata": {
        "id": "5eIGcQCA5DAO"
      },
      "outputs": [],
      "source": [
        "def train(model, optimizer, tweets, labels):\n",
        "    model.train() # no need to change\n",
        "    epoch_loss = []\n",
        "\n",
        "    for text, label in zip(tweets, labels):\n",
        "\n",
        "        # convert input and labels to PyTorch tensor if didn't do, make them on gpu\n",
        "        text_tensor = torch.tensor(text).to(\"cuda\")\n",
        "        label = convert_to_one_hot(torch.tensor(label)).to(\"cuda\")\n",
        "\n",
        "        # the model should take vectors that representing a piice of text\n",
        "        # predicted probability distributions\n",
        "        output = model(text_tensor)\n",
        "\n",
        "        # the loss is between the predictions and the true label\n",
        "        # calculate loss, no need to change\n",
        "        loss = loss_fn(output, label)\n",
        "        epoch_loss.append(loss.item())\n",
        "    \n",
        "        # Backward pass, no need to change\n",
        "        optimizer.zero_grad()\n",
        "        loss.backward()\n",
        "\n",
        "        # Step with optimizer, no need to change\n",
        "        optimizer.step()\n",
        "\n",
        "    # calculate the avg of accumulated losses\n",
        "    return sum(epoch_loss)/len(epoch_loss)"
      ]
    },
    {
      "cell_type": "markdown",
      "metadata": {
        "id": "MlMf4wF0e-lw"
      },
      "source": [
        "You may notice this training takes quite some time. \n",
        "Run it but no need to wait till it ends, you can stop it when you see the estimated time."
      ]
    },
    {
      "cell_type": "code",
      "execution_count": 24,
      "metadata": {
        "id": "lvw4UrxOY1y2",
        "colab": {
          "base_uri": "https://localhost:8080/",
          "height": 398
        },
        "outputId": "7374f8c1-7757-4528-a53e-fef76023b13a"
      },
      "outputs": [
        {
          "output_type": "stream",
          "name": "stderr",
          "text": [
            "  6%|▌         | 60/1000 [03:08<49:18,  3.15s/it]\n"
          ]
        },
        {
          "output_type": "error",
          "ename": "KeyboardInterrupt",
          "evalue": "ignored",
          "traceback": [
            "\u001b[0;31m---------------------------------------------------------------------------\u001b[0m",
            "\u001b[0;31mKeyboardInterrupt\u001b[0m                         Traceback (most recent call last)",
            "\u001b[0;32m<ipython-input-24-1cbac891e2f7>\u001b[0m in \u001b[0;36m<module>\u001b[0;34m\u001b[0m\n\u001b[1;32m      3\u001b[0m \u001b[0;32mfor\u001b[0m \u001b[0mepoch\u001b[0m \u001b[0;32min\u001b[0m \u001b[0mtqdm\u001b[0m\u001b[0;34m(\u001b[0m\u001b[0mrange\u001b[0m\u001b[0;34m(\u001b[0m\u001b[0mepochs\u001b[0m\u001b[0;34m)\u001b[0m\u001b[0;34m)\u001b[0m\u001b[0;34m:\u001b[0m\u001b[0;34m\u001b[0m\u001b[0;34m\u001b[0m\u001b[0m\n\u001b[1;32m      4\u001b[0m \u001b[0;34m\u001b[0m\u001b[0m\n\u001b[0;32m----> 5\u001b[0;31m     \u001b[0mepoch_loss\u001b[0m \u001b[0;34m=\u001b[0m \u001b[0mtrain\u001b[0m\u001b[0;34m(\u001b[0m\u001b[0mmodel\u001b[0m\u001b[0;34m,\u001b[0m \u001b[0moptimizer\u001b[0m\u001b[0;34m,\u001b[0m \u001b[0mX_train_array\u001b[0m\u001b[0;34m,\u001b[0m \u001b[0my_train\u001b[0m\u001b[0;34m)\u001b[0m\u001b[0;34m\u001b[0m\u001b[0;34m\u001b[0m\u001b[0m\n\u001b[0m\u001b[1;32m      6\u001b[0m \u001b[0;34m\u001b[0m\u001b[0m\n\u001b[1;32m      7\u001b[0m     \u001b[0;31m# Report metrics every 190 epochs\u001b[0m\u001b[0;34m\u001b[0m\u001b[0;34m\u001b[0m\u001b[0;34m\u001b[0m\u001b[0m\n",
            "\u001b[0;32m<ipython-input-23-a9d84bf2cdde>\u001b[0m in \u001b[0;36mtrain\u001b[0;34m(model, optimizer, tweets, labels)\u001b[0m\n\u001b[1;32m     20\u001b[0m         \u001b[0;31m# Backward pass, no need to change\u001b[0m\u001b[0;34m\u001b[0m\u001b[0;34m\u001b[0m\u001b[0;34m\u001b[0m\u001b[0m\n\u001b[1;32m     21\u001b[0m         \u001b[0moptimizer\u001b[0m\u001b[0;34m.\u001b[0m\u001b[0mzero_grad\u001b[0m\u001b[0;34m(\u001b[0m\u001b[0;34m)\u001b[0m\u001b[0;34m\u001b[0m\u001b[0;34m\u001b[0m\u001b[0m\n\u001b[0;32m---> 22\u001b[0;31m         \u001b[0mloss\u001b[0m\u001b[0;34m.\u001b[0m\u001b[0mbackward\u001b[0m\u001b[0;34m(\u001b[0m\u001b[0;34m)\u001b[0m\u001b[0;34m\u001b[0m\u001b[0;34m\u001b[0m\u001b[0m\n\u001b[0m\u001b[1;32m     23\u001b[0m \u001b[0;34m\u001b[0m\u001b[0m\n\u001b[1;32m     24\u001b[0m         \u001b[0;31m# Step with optimizer, no need to change\u001b[0m\u001b[0;34m\u001b[0m\u001b[0;34m\u001b[0m\u001b[0;34m\u001b[0m\u001b[0m\n",
            "\u001b[0;32m/usr/local/lib/python3.7/dist-packages/torch/_tensor.py\u001b[0m in \u001b[0;36mbackward\u001b[0;34m(self, gradient, retain_graph, create_graph, inputs)\u001b[0m\n\u001b[1;32m    394\u001b[0m                 \u001b[0mcreate_graph\u001b[0m\u001b[0;34m=\u001b[0m\u001b[0mcreate_graph\u001b[0m\u001b[0;34m,\u001b[0m\u001b[0;34m\u001b[0m\u001b[0;34m\u001b[0m\u001b[0m\n\u001b[1;32m    395\u001b[0m                 inputs=inputs)\n\u001b[0;32m--> 396\u001b[0;31m         \u001b[0mtorch\u001b[0m\u001b[0;34m.\u001b[0m\u001b[0mautograd\u001b[0m\u001b[0;34m.\u001b[0m\u001b[0mbackward\u001b[0m\u001b[0;34m(\u001b[0m\u001b[0mself\u001b[0m\u001b[0;34m,\u001b[0m \u001b[0mgradient\u001b[0m\u001b[0;34m,\u001b[0m \u001b[0mretain_graph\u001b[0m\u001b[0;34m,\u001b[0m \u001b[0mcreate_graph\u001b[0m\u001b[0;34m,\u001b[0m \u001b[0minputs\u001b[0m\u001b[0;34m=\u001b[0m\u001b[0minputs\u001b[0m\u001b[0;34m)\u001b[0m\u001b[0;34m\u001b[0m\u001b[0;34m\u001b[0m\u001b[0m\n\u001b[0m\u001b[1;32m    397\u001b[0m \u001b[0;34m\u001b[0m\u001b[0m\n\u001b[1;32m    398\u001b[0m     \u001b[0;32mdef\u001b[0m \u001b[0mregister_hook\u001b[0m\u001b[0;34m(\u001b[0m\u001b[0mself\u001b[0m\u001b[0;34m,\u001b[0m \u001b[0mhook\u001b[0m\u001b[0;34m)\u001b[0m\u001b[0;34m:\u001b[0m\u001b[0;34m\u001b[0m\u001b[0;34m\u001b[0m\u001b[0m\n",
            "\u001b[0;32m/usr/local/lib/python3.7/dist-packages/torch/autograd/__init__.py\u001b[0m in \u001b[0;36mbackward\u001b[0;34m(tensors, grad_tensors, retain_graph, create_graph, grad_variables, inputs)\u001b[0m\n\u001b[1;32m    173\u001b[0m     Variable._execution_engine.run_backward(  # Calls into the C++ engine to run the backward pass\n\u001b[1;32m    174\u001b[0m         \u001b[0mtensors\u001b[0m\u001b[0;34m,\u001b[0m \u001b[0mgrad_tensors_\u001b[0m\u001b[0;34m,\u001b[0m \u001b[0mretain_graph\u001b[0m\u001b[0;34m,\u001b[0m \u001b[0mcreate_graph\u001b[0m\u001b[0;34m,\u001b[0m \u001b[0minputs\u001b[0m\u001b[0;34m,\u001b[0m\u001b[0;34m\u001b[0m\u001b[0;34m\u001b[0m\u001b[0m\n\u001b[0;32m--> 175\u001b[0;31m         allow_unreachable=True, accumulate_grad=True)  # Calls into the C++ engine to run the backward pass\n\u001b[0m\u001b[1;32m    176\u001b[0m \u001b[0;34m\u001b[0m\u001b[0m\n\u001b[1;32m    177\u001b[0m def grad(\n",
            "\u001b[0;31mKeyboardInterrupt\u001b[0m: "
          ]
        }
      ],
      "source": [
        "from tqdm import tqdm\n",
        "\n",
        "for epoch in tqdm(range(epochs)):\n",
        "\n",
        "    epoch_loss = train(model, optimizer, X_train_array, y_train)\n",
        "\n",
        "    # Report metrics every 190 epochs\n",
        "    if ((epoch+1) % 100) == 0:\n",
        "        print(epoch_loss)"
      ]
    },
    {
      "cell_type": "code",
      "execution_count": 25,
      "metadata": {
        "id": "8GBJKr89eWfO"
      },
      "outputs": [],
      "source": [
        "### evaluation script\n",
        "### no need to run if things above takes so long\n",
        "\n",
        "@torch.no_grad() ### don't change\n",
        "def evaluate(model, tweets): ### input: feature vectors\n",
        "    model.eval() ### don't change\n",
        "    preds = []\n",
        "    for text in tweets:\n",
        "        text_tensor = torch.unsqueeze(torch.tensor(text), 0).to(\"cuda\")\n",
        "        output = model(text_tensor)\n",
        "        pred = torch.argmax(output, dim=1)\n",
        "        preds.append(pred.item())\n",
        "\n",
        "    return preds"
      ]
    },
    {
      "cell_type": "code",
      "execution_count": 26,
      "metadata": {
        "id": "i6aXW6_-fOxw"
      },
      "outputs": [],
      "source": [
        "test_pred = evaluate(model, X_test_array) ### no need to run if things above takes so long"
      ]
    },
    {
      "cell_type": "code",
      "execution_count": 27,
      "metadata": {
        "id": "t4UVWoXwfO0i",
        "colab": {
          "base_uri": "https://localhost:8080/",
          "height": 320
        },
        "outputId": "c14a13c9-2b57-4121-eb4a-540b6dd54ea1"
      },
      "outputs": [
        {
          "output_type": "stream",
          "name": "stdout",
          "text": [
            "Accuracy:  83.3\n",
            "F1 Score:  80.0\n"
          ]
        },
        {
          "output_type": "display_data",
          "data": {
            "text/plain": [
              "<Figure size 432x288 with 2 Axes>"
            ],
            "image/png": "[encoded data removed]"
          },
          "metadata": {}
        }
      ],
      "source": [
        "### no need to run if things above takes so long\n",
        "### code to show your evaluation result\n",
        "from sklearn import metrics\n",
        "from sklearn.metrics import accuracy_score, f1_score\n",
        "from sklearn.metrics import confusion_matrix\n",
        "\n",
        "# Accuracy\n",
        "score = accuracy_score(y_test, test_pred) * 100\n",
        "print (\"Accuracy: \", score)\n",
        "\n",
        "# F1 score\n",
        "f1_score = round(f1_score(y_test, test_pred, pos_label=1), 1) * 100\n",
        "print(\"F1 Score: \", f1_score)\n",
        " \n",
        "# Confusion Matrix\n",
        "confusion_matrix = confusion_matrix(y_true=y_test, y_pred=test_pred)\n",
        "\n",
        "cm_plot = metrics.ConfusionMatrixDisplay(confusion_matrix=confusion_matrix)\n",
        "cm_plot.plot()\n",
        "\n",
        "plt.grid(False)\n",
        "plt.show()"
      ]
    },
    {
      "cell_type": "markdown",
      "metadata": {
        "id": "Z6D6V6vZYFei"
      },
      "source": [
        "You may notice this training takes quite some time. \n",
        "\n",
        "No need to wait till it ends, let's modify it to make it run in `batches`, which means the model will take `N * feature_dimenson` features and `N` labels at one pass. This change should make the training way faster."
      ]
    },
    {
      "cell_type": "markdown",
      "metadata": {
        "id": "0D_-7Pw450Dp"
      },
      "source": [
        "## Train in batch"
      ]
    },
    {
      "cell_type": "code",
      "execution_count": 28,
      "metadata": {
        "id": "gfojhdeSatrj"
      },
      "outputs": [],
      "source": [
        "### create a new model using the same setting\n",
        "model_batch = LRClassifier(input_dim, output_dim)\n",
        "optimizer_batch = torch.optim.SGD(model_batch.parameters(), lr=learning_rate, momentum=0.9)"
      ]
    },
    {
      "cell_type": "code",
      "execution_count": 29,
      "metadata": {
        "id": "yHGmsy8qa8cj",
        "colab": {
          "base_uri": "https://localhost:8080/"
        },
        "outputId": "5146e0b7-782c-45ba-f92d-089b03c97476"
      },
      "outputs": [
        {
          "output_type": "execute_result",
          "data": {
            "text/plain": [
              "LRClassifier(\n",
              "  (linear): Linear(in_features=32817, out_features=2, bias=True)\n",
              ")"
            ]
          },
          "metadata": {},
          "execution_count": 29
        }
      ],
      "source": [
        "model_batch.to(\"cuda\") ### gpu accelearting"
      ]
    },
    {
      "cell_type": "markdown",
      "metadata": {
        "id": "9hows_PQTei2"
      },
      "source": [
        " Let's make it run in batches:"
      ]
    },
    {
      "cell_type": "code",
      "source": [
        "'''\n",
        "Source: https://towardsdatascience.com/how-to-use-datasets-and-dataloader-in-pytorch-for-custom-text-data-270eed7f7c00\n",
        "'''\n",
        "from torch.utils.data import Dataset, DataLoader\n",
        "\n",
        "class CustomTextDataset(Dataset):\n",
        "\n",
        "    def __init__(self, txt, labels):\n",
        "        self.text = txt\n",
        "        self.labels = labels\n",
        "\n",
        "    def __len__(self):\n",
        "        return len(self.labels)\n",
        "\n",
        "    def __getitem__(self, idx):\n",
        "        label = self.labels[idx]\n",
        "        text = self.text[idx]\n",
        "        sample = {'Text': text, 'Label': label}\n",
        "        return sample"
      ],
      "metadata": {
        "id": "mnpdvmDuRCx7"
      },
      "execution_count": 30,
      "outputs": []
    },
    {
      "cell_type": "code",
      "execution_count": 31,
      "metadata": {
        "id": "unNe-qKo5xTZ"
      },
      "outputs": [],
      "source": [
        "### modify the train loop above and make it run in batches\n",
        "def train_batch(model, optimizer, tweets, labels, batch_size = 100): \n",
        "    model.train() # no need to change\n",
        "    epoch_loss = []\n",
        "    total_acc, total_count = 0, 0\n",
        "\n",
        "    # convert the tweets and labels into a custom dataset to do matrix multiplications\n",
        "    TD = CustomTextDataset(tweets, labels)\n",
        "    train_loader = torch.utils.data.DataLoader(TD, batch_size=batch_size)\n",
        "\n",
        "    for idx, sample in enumerate(train_loader):\n",
        "\n",
        "      text, label = sample['Text'], sample['Label']\n",
        "\n",
        "      # convert input and labels to PyTorch tensor if didn't do, make them on gpu\n",
        "      text_tensor = text.to(\"cuda\")\n",
        "      label = convert_to_one_hot(label).to(\"cuda\")\n",
        "\n",
        "      # the model should take vectors that representing a piice of text\n",
        "      # predicted probability distributions\n",
        "      output = model(text_tensor)\n",
        "\n",
        "      # the loss is between the predictions and the true label\n",
        "      # calculate loss, no need to change\n",
        "      loss = loss_fn(output, label)\n",
        "      epoch_loss.append(loss.item()/batch_size)\n",
        "  \n",
        "      # Backward pass, no need to change\n",
        "      optimizer.zero_grad()\n",
        "      loss.backward()\n",
        "\n",
        "      # Step with optimizer, no need to change\n",
        "      optimizer.step()\n",
        "\n",
        "    # calculate the avg of accumulated losses\n",
        "    return (sum(epoch_loss)/len(epoch_loss))"
      ]
    },
    {
      "cell_type": "code",
      "execution_count": 32,
      "metadata": {
        "id": "iOrEZ_hHaGCz",
        "colab": {
          "base_uri": "https://localhost:8080/"
        },
        "outputId": "3aa47b80-ff73-48d2-8885-f1abc698bdb6"
      },
      "outputs": [
        {
          "output_type": "stream",
          "name": "stderr",
          "text": [
            " 10%|█         | 100/1000 [00:26<03:55,  3.83it/s]"
          ]
        },
        {
          "output_type": "stream",
          "name": "stdout",
          "text": [
            "\t | Epoch_loss:  0.0015342588594981603\n"
          ]
        },
        {
          "output_type": "stream",
          "name": "stderr",
          "text": [
            " 20%|██        | 200/1000 [00:52<03:29,  3.82it/s]"
          ]
        },
        {
          "output_type": "stream",
          "name": "stdout",
          "text": [
            "\t | Epoch_loss:  0.0008893830222742897\n"
          ]
        },
        {
          "output_type": "stream",
          "name": "stderr",
          "text": [
            " 30%|███       | 300/1000 [01:18<03:04,  3.79it/s]"
          ]
        },
        {
          "output_type": "stream",
          "name": "stdout",
          "text": [
            "\t | Epoch_loss:  0.0006178151390382223\n"
          ]
        },
        {
          "output_type": "stream",
          "name": "stderr",
          "text": [
            " 40%|████      | 400/1000 [01:44<02:34,  3.89it/s]"
          ]
        },
        {
          "output_type": "stream",
          "name": "stdout",
          "text": [
            "\t | Epoch_loss:  0.0004702133387327193\n"
          ]
        },
        {
          "output_type": "stream",
          "name": "stderr",
          "text": [
            " 50%|█████     | 500/1000 [02:10<02:10,  3.82it/s]"
          ]
        },
        {
          "output_type": "stream",
          "name": "stdout",
          "text": [
            "\t | Epoch_loss:  0.00037826318719557354\n"
          ]
        },
        {
          "output_type": "stream",
          "name": "stderr",
          "text": [
            " 60%|██████    | 600/1000 [02:36<01:43,  3.88it/s]"
          ]
        },
        {
          "output_type": "stream",
          "name": "stdout",
          "text": [
            "\t | Epoch_loss:  0.00031578971019812993\n"
          ]
        },
        {
          "output_type": "stream",
          "name": "stderr",
          "text": [
            " 70%|███████   | 700/1000 [03:02<01:17,  3.86it/s]"
          ]
        },
        {
          "output_type": "stream",
          "name": "stdout",
          "text": [
            "\t | Epoch_loss:  0.00027071000422750204\n"
          ]
        },
        {
          "output_type": "stream",
          "name": "stderr",
          "text": [
            " 80%|████████  | 800/1000 [03:28<00:52,  3.83it/s]"
          ]
        },
        {
          "output_type": "stream",
          "name": "stdout",
          "text": [
            "\t | Epoch_loss:  0.00023671177508575577\n"
          ]
        },
        {
          "output_type": "stream",
          "name": "stderr",
          "text": [
            " 90%|█████████ | 900/1000 [03:54<00:27,  3.61it/s]"
          ]
        },
        {
          "output_type": "stream",
          "name": "stdout",
          "text": [
            "\t | Epoch_loss:  0.00021019005243267335\n"
          ]
        },
        {
          "output_type": "stream",
          "name": "stderr",
          "text": [
            "100%|██████████| 1000/1000 [04:21<00:00,  3.83it/s]"
          ]
        },
        {
          "output_type": "stream",
          "name": "stdout",
          "text": [
            "\t | Epoch_loss:  0.00018894198723137375\n"
          ]
        },
        {
          "output_type": "stream",
          "name": "stderr",
          "text": [
            "\n"
          ]
        }
      ],
      "source": [
        "from tqdm import tqdm\n",
        "\n",
        "y_train = y_train.tolist()\n",
        "\n",
        "for epoch in tqdm(range(epochs)):\n",
        "  epoch_loss = train_batch(model_batch, optimizer_batch, X_train_array, y_train, batch_size = 100)\n",
        "\n",
        "  # Report metrics every 100 epochs\n",
        "  if ((epoch+1) % 100) == 0:\n",
        "    print('\\t | Epoch_loss: ', epoch_loss)"
      ]
    },
    {
      "cell_type": "code",
      "execution_count": 33,
      "metadata": {
        "id": "_0tJrRnLaiPe"
      },
      "outputs": [],
      "source": [
        "test_pred = evaluate(model_batch, X_test_array) ### eval on test set"
      ]
    },
    {
      "cell_type": "code",
      "execution_count": 34,
      "metadata": {
        "id": "7rY1zrU7d5tC",
        "colab": {
          "base_uri": "https://localhost:8080/",
          "height": 320
        },
        "outputId": "59942197-da18-49f6-9a45-bba4ecb14e17"
      },
      "outputs": [
        {
          "output_type": "stream",
          "name": "stdout",
          "text": [
            "Accuracy:  83.89999999999999\n",
            "F1 Score:  80.0\n"
          ]
        },
        {
          "output_type": "display_data",
          "data": {
            "text/plain": [
              "<Figure size 432x288 with 2 Axes>"
            ],
            "image/png": "[encoded data removed]"
          },
          "metadata": {}
        }
      ],
      "source": [
        "### code to show your evaluation result\n",
        "\n",
        "from sklearn import metrics\n",
        "from sklearn.metrics import accuracy_score, f1_score\n",
        "from sklearn.metrics import confusion_matrix\n",
        "\n",
        "# Accuracy\n",
        "score = accuracy_score(y_test, test_pred) * 100\n",
        "print (\"Accuracy: \", score)\n",
        "\n",
        "# F1 score\n",
        "f1_score = round(f1_score(y_test, test_pred, pos_label=1), 1) * 100\n",
        "print(\"F1 Score: \", f1_score)\n",
        " \n",
        "# Confusion Matrix\n",
        "confusion_matrix = confusion_matrix(y_true=y_test, y_pred=test_pred)\n",
        "\n",
        "cm_plot = metrics.ConfusionMatrixDisplay(confusion_matrix=confusion_matrix)\n",
        "cm_plot.plot()\n",
        "\n",
        "plt.grid(False)\n",
        "plt.show()"
      ]
    },
    {
      "cell_type": "markdown",
      "metadata": {
        "id": "AnC122IyZDTA"
      },
      "source": [
        "## Early stopping\n",
        "The batch-ed training works much faster even if we train it for 1000 epochs!\n",
        "\n",
        "But is it the best practice to train 1000 epochs under any circumstances? No, we should make the training stop at an optimal point that the model is not overfitted and can give best performance on unseen data. Also, we will save time during the training."
      ]
    },
    {
      "cell_type": "markdown",
      "metadata": {
        "id": "xZ4ihbtce72k"
      },
      "source": [
        "We will then introduce `early stop` to our training loop. By montoring the loss on the dev data, we will know when is the best time to stop training."
      ]
    },
    {
      "cell_type": "code",
      "execution_count": 35,
      "metadata": {
        "id": "4yAqJkgCgqWK"
      },
      "outputs": [],
      "source": [
        "model_batch = LRClassifier(input_dim, output_dim)\n",
        "optimizer_batch = torch.optim.SGD(model_batch.parameters(), lr=0.5, momentum=0.9)"
      ]
    },
    {
      "cell_type": "code",
      "execution_count": 36,
      "metadata": {
        "id": "FtJ6dfrvgrxK",
        "colab": {
          "base_uri": "https://localhost:8080/"
        },
        "outputId": "22a117dc-a397-49dd-9f3d-38b546b4b573"
      },
      "outputs": [
        {
          "output_type": "execute_result",
          "data": {
            "text/plain": [
              "LRClassifier(\n",
              "  (linear): Linear(in_features=32817, out_features=2, bias=True)\n",
              ")"
            ]
          },
          "metadata": {},
          "execution_count": 36
        }
      ],
      "source": [
        "model_batch.to(\"cuda\")"
      ]
    },
    {
      "cell_type": "markdown",
      "metadata": {
        "id": "23q5h29CU--F"
      },
      "source": [
        "Hint: this function below helps to get evaluation loss"
      ]
    },
    {
      "cell_type": "code",
      "execution_count": 37,
      "metadata": {
        "id": "qos9N8wo_ZTE"
      },
      "outputs": [],
      "source": [
        "@torch.no_grad()\n",
        "def evaluate_loss(model, tweets, labels):\n",
        "    model.eval()\n",
        "    epoch_loss = []\n",
        "    for text, label in zip(tweets, labels):\n",
        "      \n",
        "        text_tensor = torch.tensor(text).to(\"cuda\")\n",
        "        label = convert_to_one_hot(torch.tensor(label)).to(\"cuda\")\n",
        "\n",
        "        output = model(text_tensor)\n",
        "        loss = loss_fn(output, label)\n",
        "        \n",
        "        epoch_loss.append(loss.item())\n",
        "    \n",
        "    return sum(epoch_loss)/len(epoch_loss)"
      ]
    },
    {
      "cell_type": "code",
      "execution_count": 38,
      "metadata": {
        "id": "9MOSNwPgzQ7c"
      },
      "outputs": [],
      "source": [
        "@torch.no_grad()\n",
        "def evaluate(model, tweets):\n",
        "    model.eval()\n",
        "    preds = []\n",
        "    for text in tweets:\n",
        "        text_tensor = torch.unsqueeze(torch.tensor(text), 0).to(\"cuda\")\n",
        "        output = model(text_tensor)\n",
        "        pred = torch.argmax(output, dim=1)\n",
        "        preds.append(pred.item())\n",
        "\n",
        "    return preds"
      ]
    },
    {
      "cell_type": "code",
      "execution_count": 39,
      "metadata": {
        "id": "ADOAnu2we9XN",
        "colab": {
          "base_uri": "https://localhost:8080/"
        },
        "outputId": "6c047f91-3461-469a-f00c-4634902d47ca"
      },
      "outputs": [
        {
          "output_type": "stream",
          "name": "stderr",
          "text": [
            "  5%|▌         | 50/1000 [00:21<06:35,  2.40it/s]"
          ]
        },
        {
          "output_type": "stream",
          "name": "stdout",
          "text": [
            "0.002364770267690931\n"
          ]
        },
        {
          "output_type": "stream",
          "name": "stderr",
          "text": [
            " 10%|█         | 100/1000 [00:42<06:20,  2.37it/s]"
          ]
        },
        {
          "output_type": "stream",
          "name": "stdout",
          "text": [
            "0.0015343908454690666\n"
          ]
        },
        {
          "output_type": "stream",
          "name": "stderr",
          "text": [
            " 15%|█▌        | 150/1000 [01:04<05:52,  2.41it/s]"
          ]
        },
        {
          "output_type": "stream",
          "name": "stdout",
          "text": [
            "0.001130186485392707\n"
          ]
        },
        {
          "output_type": "stream",
          "name": "stderr",
          "text": [
            " 19%|█▉        | 189/1000 [01:21<05:51,  2.31it/s]\n"
          ]
        }
      ],
      "source": [
        "### your code to implement early stop\n",
        "early_stop_epsilon = 0.00005\n",
        "patience = 20\n",
        "epochs_since_improvement = 0\n",
        "prev_validation_loss = None\n",
        "\n",
        "for epoch in tqdm(range(epochs)):\n",
        "\n",
        "    epoch_loss = train_batch(model_batch, optimizer_batch, X_train_array, y_train, batch_size = 100)\n",
        "\n",
        "    # Check validation error\n",
        "    validation_loss = evaluate_loss(model_batch, X_dev_array, y_dev)\n",
        "\n",
        "    # Reset the improvement patience if the validation loss improves enough since last epoch\n",
        "    if prev_validation_loss:\n",
        "      if prev_validation_loss - validation_loss >= early_stop_epsilon:\n",
        "        epochs_since_improvement = 0\n",
        "\n",
        "    # Early stop if too many epochs have passed without improvement\n",
        "    if epochs_since_improvement >= patience:\n",
        "      break\n",
        "    \n",
        "    # Update the record of validation loss per epoch\n",
        "    prev_validation_loss = validation_loss\n",
        "    epochs_since_improvement += 1      \n",
        "\n",
        "    # Report metrics every 50 batch\n",
        "    if ((epoch+1) % 50) == 0:\n",
        "        print(epoch_loss)\n"
      ]
    },
    {
      "cell_type": "code",
      "execution_count": 40,
      "metadata": {
        "id": "lWAfOQZ7kv_S"
      },
      "outputs": [],
      "source": [
        "test_pred = evaluate(model_batch, X_test_array)"
      ]
    },
    {
      "cell_type": "code",
      "execution_count": 41,
      "metadata": {
        "id": "DxdtW1iHkyBG",
        "colab": {
          "base_uri": "https://localhost:8080/",
          "height": 320
        },
        "outputId": "2a7437d4-651f-4a7d-ff6b-90e22ac6b15b"
      },
      "outputs": [
        {
          "output_type": "stream",
          "name": "stdout",
          "text": [
            "Accuracy:  84.6\n",
            "F1 Score:  80.0\n"
          ]
        },
        {
          "output_type": "display_data",
          "data": {
            "text/plain": [
              "<Figure size 432x288 with 2 Axes>"
            ],
            "image/png": "[encoded data removed]"
          },
          "metadata": {}
        }
      ],
      "source": [
        "### your evaluation code\n",
        "from sklearn import metrics\n",
        "from sklearn.metrics import accuracy_score, f1_score\n",
        "from sklearn.metrics import confusion_matrix\n",
        "\n",
        "# Accuracy\n",
        "score = accuracy_score(y_test, test_pred) * 100\n",
        "print (\"Accuracy: \", score)\n",
        "\n",
        "# F1 score\n",
        "f1_score = round(f1_score(y_test, test_pred, pos_label=1), 1) * 100\n",
        "print(\"F1 Score: \", f1_score)\n",
        " \n",
        "# Confusion Matrix\n",
        "confusion_matrix = confusion_matrix(y_true=y_test, y_pred=test_pred)\n",
        "\n",
        "cm_plot = metrics.ConfusionMatrixDisplay(confusion_matrix=confusion_matrix)\n",
        "cm_plot.plot()\n",
        "\n",
        "plt.grid(False)\n",
        "plt.show()"
      ]
    },
    {
      "cell_type": "markdown",
      "metadata": {
        "id": "bW46TwTTZWLL"
      },
      "source": [
        "Well done! You should be able to see the performance is equally good or even better after applying `early stopping`.\n",
        "\n",
        "\n",
        "Please think about your accomplishment and do some error analysis, then finish the report.\n"
      ]
    },
    {
      "cell_type": "markdown",
      "source": [
        "## Experiments"
      ],
      "metadata": {
        "id": "kdOpB58l6xqw"
      }
    },
    {
      "cell_type": "code",
      "source": [
        "# Logistic Regression\n",
        "import sklearn.linear_model as linear_model\n",
        "from sklearn import metrics\n",
        "from sklearn.metrics import confusion_matrix, classification_report\n",
        "lr = linear_model.LogisticRegression(C=1)\n",
        "lr.fit(X_train, y_train)\n",
        "y_pred1 = lr.predict(X_test)\n",
        "confusion_matrix = confusion_matrix(y_true=y_test, y_pred=y_pred1)\n",
        "print(classification_report(y_test, y_pred1))\n",
        "cm_plot = metrics.ConfusionMatrixDisplay(confusion_matrix=confusion_matrix)\n",
        "cm_plot.plot()\n",
        "plt.grid(False)\n",
        "plt.show()"
      ],
      "metadata": {
        "colab": {
          "base_uri": "https://localhost:8080/",
          "height": 441
        },
        "id": "sVmwSQBG7GsL",
        "outputId": "945c0896-c3b8-4d52-ff28-8da6a310b08d"
      },
      "execution_count": 42,
      "outputs": [
        {
          "output_type": "stream",
          "name": "stdout",
          "text": [
            "              precision    recall  f1-score   support\n",
            "\n",
            "           0       0.81      0.94      0.87       600\n",
            "           1       0.88      0.67      0.76       400\n",
            "\n",
            "    accuracy                           0.83      1000\n",
            "   macro avg       0.84      0.80      0.81      1000\n",
            "weighted avg       0.84      0.83      0.82      1000\n",
            "\n"
          ]
        },
        {
          "output_type": "display_data",
          "data": {
            "text/plain": [
              "<Figure size 432x288 with 2 Axes>"
            ],
            "image/png": "[encoded data removed]"
          },
          "metadata": {}
        }
      ]
    },
    {
      "cell_type": "code",
      "source": [
        "from sklearn.metrics import roc_curve, auc\n",
        "fpr, tpr, thresholds = roc_curve(y_test, y_pred1)\n",
        "roc_auc = auc(fpr, tpr)\n",
        "plt.figure()\n",
        "plt.plot(fpr, tpr, color='darkorange', lw=1, label='ROC curve (area = %0.2f)' % roc_auc)\n",
        "plt.xlim([0.0, 1.0])\n",
        "plt.ylim([0.0, 1.05])\n",
        "plt.xlabel('False Positive Rate')\n",
        "plt.ylabel('True Positive Rate')\n",
        "plt.title('ROC CURVE')\n",
        "plt.legend(loc=\"lower right\")\n",
        "plt.show()"
      ],
      "metadata": {
        "colab": {
          "base_uri": "https://localhost:8080/",
          "height": 301
        },
        "id": "DUv4uuCI7KwC",
        "outputId": "5efc0125-15e9-4c2b-ae1f-974a7fe46b62"
      },
      "execution_count": 43,
      "outputs": [
        {
          "output_type": "display_data",
          "data": {
            "text/plain": [
              "<Figure size 432x288 with 1 Axes>"
            ],
            "image/png": "[encoded data removed]"
          },
          "metadata": {}
        }
      ]
    },
    {
      "cell_type": "code",
      "source": [
        "#Bernoulli naive Bayes\n",
        "from sklearn.naive_bayes import BernoulliNB\n",
        "from sklearn.metrics import confusion_matrix\n",
        "import seaborn as sns\n",
        "BNBmodel = BernoulliNB()\n",
        "BNBmodel.fit(X_train, y_train)\n",
        "y_pred2 = BNBmodel.predict(X_test)\n",
        "confusion_matrix = confusion_matrix(y_true=y_test, y_pred=y_pred2)\n",
        "print(classification_report(y_test, y_pred2))\n",
        "cm_plot = metrics.ConfusionMatrixDisplay(confusion_matrix=confusion_matrix)\n",
        "cm_plot.plot()\n",
        "plt.grid(False)\n",
        "plt.show()"
      ],
      "metadata": {
        "colab": {
          "base_uri": "https://localhost:8080/",
          "height": 441
        },
        "id": "Es2KfcrP7p8w",
        "outputId": "64cc82c8-db8c-49c2-f2a9-069bb2cf9896"
      },
      "execution_count": 44,
      "outputs": [
        {
          "output_type": "stream",
          "name": "stdout",
          "text": [
            "              precision    recall  f1-score   support\n",
            "\n",
            "           0       0.79      0.96      0.87       600\n",
            "           1       0.91      0.62      0.74       400\n",
            "\n",
            "    accuracy                           0.82      1000\n",
            "   macro avg       0.85      0.79      0.80      1000\n",
            "weighted avg       0.84      0.82      0.81      1000\n",
            "\n"
          ]
        },
        {
          "output_type": "display_data",
          "data": {
            "text/plain": [
              "<Figure size 432x288 with 2 Axes>"
            ],
            "image/png": "[encoded data removed]"
          },
          "metadata": {}
        }
      ]
    },
    {
      "cell_type": "code",
      "source": [
        "fpr, tpr, thresholds = roc_curve(y_test, y_pred2)\n",
        "roc_auc = auc(fpr, tpr)\n",
        "plt.figure()\n",
        "plt.plot(fpr, tpr, color='darkorange', lw=1, label='ROC curve (area = %0.2f)' % roc_auc)\n",
        "plt.xlim([0.0, 1.0])\n",
        "plt.ylim([0.0, 1.05])\n",
        "plt.xlabel('False Positive Rate')\n",
        "plt.ylabel('True Positive Rate')\n",
        "plt.title('ROC CURVE')\n",
        "plt.legend(loc=\"lower right\")\n",
        "plt.show()"
      ],
      "metadata": {
        "colab": {
          "base_uri": "https://localhost:8080/",
          "height": 301
        },
        "id": "9ve4g0-H770e",
        "outputId": "a84edcf9-f52d-4ce1-a015-3e16e3ba974c"
      },
      "execution_count": 45,
      "outputs": [
        {
          "output_type": "display_data",
          "data": {
            "text/plain": [
              "<Figure size 432x288 with 1 Axes>"
            ],
            "image/png": "[encoded data removed]"
          },
          "metadata": {}
        }
      ]
    },
    {
      "cell_type": "code",
      "source": [
        "#linear SVC\n",
        "from sklearn.svm import LinearSVC\n",
        "from sklearn.metrics import confusion_matrix\n",
        "SVCmodel = LinearSVC()\n",
        "SVCmodel.fit(X_train, y_train)\n",
        "y_pred3 = SVCmodel.predict(X_test)\n",
        "confusion_matrix = confusion_matrix(y_true=y_test, y_pred=y_pred3)\n",
        "print(classification_report(y_test, y_pred3))\n",
        "cm_plot = metrics.ConfusionMatrixDisplay(confusion_matrix=confusion_matrix)\n",
        "cm_plot.plot()\n",
        "plt.grid(False)\n",
        "plt.show()\n"
      ],
      "metadata": {
        "colab": {
          "base_uri": "https://localhost:8080/",
          "height": 441
        },
        "id": "iCnsWRob7-Z3",
        "outputId": "67125ace-b86c-4e00-b783-d343c7f9bb9c"
      },
      "execution_count": 46,
      "outputs": [
        {
          "output_type": "stream",
          "name": "stdout",
          "text": [
            "              precision    recall  f1-score   support\n",
            "\n",
            "           0       0.84      0.90      0.87       600\n",
            "           1       0.84      0.74      0.79       400\n",
            "\n",
            "    accuracy                           0.84      1000\n",
            "   macro avg       0.84      0.82      0.83      1000\n",
            "weighted avg       0.84      0.84      0.84      1000\n",
            "\n"
          ]
        },
        {
          "output_type": "display_data",
          "data": {
            "text/plain": [
              "<Figure size 432x288 with 2 Axes>"
            ],
            "image/png": "[encoded data removed]"
          },
          "metadata": {}
        }
      ]
    },
    {
      "cell_type": "code",
      "source": [
        "fpr, tpr, thresholds = roc_curve(y_test, y_pred3)\n",
        "roc_auc = auc(fpr, tpr)\n",
        "plt.figure()\n",
        "plt.plot(fpr, tpr, color='darkorange', lw=1, label='ROC curve (area = %0.2f)' % roc_auc)\n",
        "plt.xlim([0.0, 1.0])\n",
        "plt.ylim([0.0, 1.05])\n",
        "plt.xlabel('False Positive Rate')\n",
        "plt.ylabel('True Positive Rate')\n",
        "plt.title('ROC CURVE')\n",
        "plt.legend(loc=\"lower right\")\n",
        "plt.show()"
      ],
      "metadata": {
        "colab": {
          "base_uri": "https://localhost:8080/",
          "height": 301
        },
        "id": "qfuOhI9x8JbL",
        "outputId": "06304215-d522-4d55-859f-1d84c3e01bbd"
      },
      "execution_count": 47,
      "outputs": [
        {
          "output_type": "display_data",
          "data": {
            "text/plain": [
              "<Figure size 432x288 with 1 Axes>"
            ],
            "image/png": "[encoded data removed]"
          },
          "metadata": {}
        }
      ]
    }
  ],
  "metadata": {
    "accelerator": "GPU",
    "colab": {
      "collapsed_sections": [],
      "provenance": []
    },
    "gpuClass": "standard",
    "kernelspec": {
      "display_name": "Python 3",
      "name": "python3"
    },
    "language_info": {
      "name": "python"
    }
  },
  "nbformat": 4,
  "nbformat_minor": 0
}